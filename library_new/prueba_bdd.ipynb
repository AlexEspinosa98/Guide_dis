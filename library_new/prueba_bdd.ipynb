{
 "cells": [
  {
   "cell_type": "code",
   "execution_count": 1,
   "metadata": {},
   "outputs": [],
   "source": [
    "import sqlite3"
   ]
  },
  {
   "cell_type": "code",
   "execution_count": null,
   "metadata": {},
   "outputs": [],
   "source": []
  },
  {
   "cell_type": "code",
   "execution_count": 41,
   "metadata": {},
   "outputs": [
    {
     "name": "stdout",
     "output_type": "stream",
     "text": [
      "[(1, '[199, 1240]', '[289, 1299]', '[10.7999463]', '[-74.20335997]', 0.9248143434524536, 2), (2, '[221, 647]', '[306, 729]', '[10.8000284]', '[-74.20335729]', 0.6331658363342285, 2), (3, '[6, 1116]', '[64, 1210]', '[10.79996125]', '[-74.20338946]', 0.19952894747257233, 2), (4, '[417, 65]', '[505, 128]', '[10.80011177]', '[-74.20332936]', 0.16567888855934143, 2), (5, '[339, 977]', '[394, 1035]', '[10.80003789]', '[-74.20335423]', 0.998923122882843, 3), (6, '[362, 1142]', '[438, 1243]', '[10.80001163]', '[-74.20334958]', 0.9954277276992798, 3), (7, '[829, 76]', '[919, 135]', '[10.80016507]', '[-74.20328267]', 0.9758849143981934, 3), (8, '[373, 1096]', '[453, 1140]', '[10.80002222]', '[-74.2033476]', 0.9313584566116332, 3), (9, '[844, 1202]', '[887, 1279]', '[10.80000485]', '[-74.20328379]', 0.5765292644500732, 3), (10, '[566, 1200]', '[589, 1237]', '[10.80000796]', '[-74.20332445]', 0.5140727162361145, 3), (11, '[630, 611]', '[666, 686]', '[10.80008842]', '[-74.20331443]', 0.4386324882507324, 3), (12, '[71, 1052]', '[110, 1142]', '[10.80002504]', '[-74.2033932]', 0.3352983593940735, 3), (13, '[10, 1031]', '[74, 1097]', '[10.8000297]', '[-74.20340011]', 0.10011758655309676, 3), (14, '[891, 111]', '[991, 158]', '[10.80016098]', '[-74.20327307]', 0.050947405397892, 3), (15, '[479, 1156]', '[556, 1237]', '[10.79998505]', '[-74.20345941]', 0.99449360370636, 4), (16, '[393, 491]', '[487, 545]', '[10.80008103]', '[-74.20347044]', 0.988591492176056, 4), (17, '[739, 856]', '[790, 930]', '[10.80002802]', '[-74.2034245]', 0.9858853816986084, 4), (18, '[3, 484]', '[79, 563]', '[10.80008018]', '[-74.20352669]', 0.9810950756072998, 4), (19, '[159, 909]', '[247, 944]', '[10.80002322]', '[-74.2035038]', 0.9709209203720092, 4), (20, '[510, 696]', '[577, 751]', '[10.80005191]', '[-74.20345574]', 0.953380048274994, 4), (21, '[552, 245]', '[613, 281]', '[10.80011693]', '[-74.20345022]', 0.8920249342918396, 4), (22, '[714, 402]', '[786, 443]', '[10.80009446]', '[-74.20342662]', 0.8822577595710754, 4), (23, '[747, 494]', '[809, 586]', '[10.80007792]', '[-74.20342252]', 0.8205114006996155, 4), (24, '[211, 633]', '[309, 688]', '[10.80006082]', '[-74.20349574]', 0.8052705526351929, 4), (25, '[196, 439]', '[237, 503]', '[10.80008767]', '[-74.20350196]', 0.7630263566970825, 4), (26, '[355, 333]', '[417, 376]', '[10.80010407]', '[-74.20347807]', 0.7452625036239624, 4), (27, '[477, 1144]', '[518, 1232]', '[10.79998618]', '[-74.20346224]', 0.543972373008728, 4), (28, '[506, 1110]', '[597, 1164]', '[10.79999339]', '[-74.20345461]', 0.4679100513458252, 4), (29, '[465, 1002]', '[519, 1110]', '[10.80000484]', '[-74.20346295]', 0.44673067331314087, 4), (30, '[608, 296]', '[684, 370]', '[10.80010718]', '[-74.20344118]', 0.4198640286922455, 4), (31, '[215, 648]', '[341, 714]', '[10.80005785]', '[-74.20349334]', 0.3881855905056, 4), (32, '[365, 46]', '[475, 85]', '[10.80014492]', '[-74.20347312]', 0.3102216124534607, 4), (33, '[261, 660]', '[340, 718]', '[10.80005686]', '[-74.20349009]', 0.2617016136646271, 4), (34, '[665, 565]', '[749, 611]', '[10.80007099]', '[-74.2034327]', 0.18425016105175016, 4), (35, '[483, 495]', '[530, 616]', '[10.80007566]', '[-74.20346097]', 0.06601788848638535, 4), (36, '[210, 1230]', '[289, 1299]', '[10.79981858]', '[-74.20346682]', 0.07063771039247513, 5), (37, '[275, 1014]', '[311, 1054]', '[10.79985113]', '[-74.20346059]', 0.05888858810067177, 5), (38, '[1202, 1113]', '[1289, 1194]', '[10.79967664]', '[-74.20329287]', 0.9987571239471436, 6), (39, '[614, 849]', '[657, 929]', '[10.79971399]', '[-74.20337918]', 0.9955710768699646, 6), (40, '[1314, 370]', '[1361, 446]', '[10.79978205]', '[-74.20327985]', 0.7528294324874878, 6), (41, '[1165, 247]', '[1221, 321]', '[10.79979974]', '[-74.20330022]', 0.21986640989780423, 6), (42, '[1231, 959]', '[1272, 1020]', '[10.79969984]', '[-74.20329202]', 0.08339998871088028, 6), (43, '[1323, 956]', '[1439, 1049]', '[10.79959176]', '[-74.20325187]', 0.9972966313362122, 7), (44, '[347, 1112]', '[451, 1182]', '[10.79957144]', '[-74.20339031]', 0.9970982074737548, 7), (45, '[471, 965]', '[540, 1018]', '[10.79959331]', '[-74.20337535]', 0.966328501701355, 7), (46, '[677, 1223]', '[716, 1295]', '[10.79955563]', '[-74.2033484]', 0.9470027089118958, 7), (47, '[212, 1154]', '[265, 1233]', '[10.7995648]', '[-74.20341303]', 0.9198746085166932, 7), (48, '[1064, 45]', '[1140, 127]', '[10.79972102]', '[-74.2032911]', 0.886681079864502, 7), (49, '[527, 1102]', '[627, 1157]', '[10.79957384]', '[-74.20336533]', 0.4452161192893982, 7), (50, '[1403, 1210]', '[1502, 1262]', '[10.79955874]', '[-74.20324171]', 0.3993055522441864, 7), (51, '[678, 717]', '[718, 802]', '[10.79962605]', '[-74.20334825]', 0.23880209028720856, 7), (52, '[1279, 2]', '[1325, 83]', '[10.79972723]', '[-74.20326302]', 0.09201177209615707, 7)]\n",
      "[10.8000284]\n"
     ]
    }
   ],
   "source": [
    "conn = sqlite3.connect('./test.db')\n",
    "cursor = conn.cursor()\n",
    "\n",
    "# Ejecutar la consulta SELECT *\n",
    "cursor.execute(\"SELECT * FROM resultado_imagen\")\n",
    "\n",
    "# Obtener los resultados de la consulta\n",
    "resultados = cursor.fetchall()\n",
    "print(resultados)\n",
    "\n",
    "# Recorrer los resultados e imprimir los valores\n",
    "print(resultados[1][3])\n",
    "for indice,recorrido in enumerate(resultados):\n",
    "    if (resultados[indice][3]==\"2023-05-23 14:52:58.694936\"):\n",
    "        print(resultados[indice][0])\n",
    "# Cerrar la conexión\n",
    "conn.close()"
   ]
  },
  {
   "cell_type": "code",
   "execution_count": 42,
   "metadata": {},
   "outputs": [
    {
     "name": "stdout",
     "output_type": "stream",
     "text": [
      "1\n",
      "7\n",
      "D:/Alexander_Espinosa/Tesis_Maestria/data/Salida_13_03_23/Dron/100FPLAN\n",
      "2023-05-26 11:01:25.622125\n",
      "\n"
     ]
    }
   ],
   "source": [
    "conn = sqlite3.connect('./test.db')\n",
    "cursor = conn.cursor()\n",
    "\n",
    "# Ejecutar la consulta SELECT *\n",
    "cursor.execute(\"SELECT * FROM registro_carpeta\")\n",
    "\n",
    "# Obtener los resultados de la consulta\n",
    "resultados = cursor.fetchall()\n",
    "\n",
    "# Recorrer los resultados e imprimir los valores\n",
    "for fila in resultados:\n",
    "    for valor in fila:\n",
    "        print(valor)\n",
    "    print()\n",
    "\n",
    "# Cerrar la conexión\n",
    "conn.close()"
   ]
  },
  {
   "cell_type": "code",
   "execution_count": 20,
   "metadata": {},
   "outputs": [
    {
     "name": "stdout",
     "output_type": "stream",
     "text": [
      "No se encontró ninguna fila con los criterios especificados\n"
     ]
    }
   ],
   "source": [
    "import sqlite3\n",
    "\n",
    "# Conectar a la base de datos\n",
    "conexion = sqlite3.connect('./test.db')\n",
    "cursor = conexion.cursor()\n",
    "\n",
    "# Definir los valores de nombre_imagen y id_registro_carpeta\n",
    "nombre_imagen = \"DJI_0050.JPG\"\n",
    "id_registro_carpeta = 8\n",
    "\n",
    "# Consultar el id de la fila con nombre_imagen y id_registro_carpeta especificados\n",
    "cursor.execute(\"SELECT id FROM tabla_imagenes WHERE nombre_imagen = ? AND id_registro_carpeta = ?\", (nombre_imagen, id_registro_carpeta))\n",
    "resultado = cursor.fetchone()\n",
    "\n",
    "if resultado is not None:\n",
    "    id_fila = resultado[0]\n",
    "    print(f\"El id de la fila con nombre_imagen '{nombre_imagen}' y id_registro_carpeta {id_registro_carpeta} es: {id_fila}\")\n",
    "else:\n",
    "    print(\"No se encontró ninguna fila con los criterios especificados\")\n",
    "\n",
    "# Cerrar la conexión\n",
    "conexion.close()"
   ]
  },
  {
   "cell_type": "code",
   "execution_count": 21,
   "metadata": {},
   "outputs": [
    {
     "name": "stdout",
     "output_type": "stream",
     "text": [
      "ID encontrado: 1\n"
     ]
    }
   ],
   "source": [
    "import sqlite3\n",
    "\n",
    "# Establecer la conexión a la base de datos\n",
    "conexion = sqlite3.connect('test.db')\n",
    "cursor = conexion.cursor()\n",
    "\n",
    "# Nombre a buscar\n",
    "nombre = \"D:/Alexander_Espinosa/Tesis_Maestria/data/Salida_13_03_23/Dron/100FPLAN\"\n",
    "\n",
    "# Ejecutar la consulta\n",
    "cursor.execute(\"SELECT id FROM registro_carpeta WHERE ruta_carpeta = ?\", (nombre,))\n",
    "row = cursor.fetchone()\n",
    "\n",
    "if row is not None:\n",
    "    id_encontrado = row[0]\n",
    "    print(f\"ID encontrado: {id_encontrado}\")\n",
    "else:\n",
    "    print(\"No se encontró ningún ID para el nombre especificado\")\n",
    "\n",
    "# Cerrar la conexión\n",
    "conexion.close()"
   ]
  },
  {
   "cell_type": "code",
   "execution_count": 11,
   "metadata": {},
   "outputs": [
    {
     "ename": "OperationalError",
     "evalue": "no such column: id_tabla1",
     "output_type": "error",
     "traceback": [
      "\u001b[1;31m---------------------------------------------------------------------------\u001b[0m",
      "\u001b[1;31mOperationalError\u001b[0m                          Traceback (most recent call last)",
      "Cell \u001b[1;32mIn[11], line 10\u001b[0m\n\u001b[0;32m      7\u001b[0m id_tabla1 \u001b[39m=\u001b[39m \u001b[39m3\u001b[39m  \u001b[39m# ID del registro de tabla1\u001b[39;00m\n\u001b[0;32m      9\u001b[0m cursor \u001b[39m=\u001b[39m conexion\u001b[39m.\u001b[39mcursor()\n\u001b[1;32m---> 10\u001b[0m cursor\u001b[39m.\u001b[39;49mexecute(\u001b[39m\"\u001b[39;49m\u001b[39mSELECT * FROM tabla_imagenes WHERE id_tabla1 = ?\u001b[39;49m\u001b[39m\"\u001b[39;49m, (id_tabla1,))\n\u001b[0;32m     11\u001b[0m rows \u001b[39m=\u001b[39m cursor\u001b[39m.\u001b[39mfetchall()\n\u001b[0;32m     13\u001b[0m \u001b[39mfor\u001b[39;00m row \u001b[39min\u001b[39;00m rows:\n\u001b[0;32m     14\u001b[0m     \u001b[39m# Acceder a los valores de cada columna\u001b[39;00m\n",
      "\u001b[1;31mOperationalError\u001b[0m: no such column: id_tabla1"
     ]
    }
   ],
   "source": [
    "import sqlite3\n",
    "\n",
    "# Establecer la conexión a la base de datos\n",
    "conexion = sqlite3.connect('test.db')\n",
    "conexion.execute(\"PRAGMA foreign_keys = 1\")\n",
    "\n",
    "id_tabla1 = 3  # ID del registro de tabla1\n",
    "\n",
    "cursor = conexion.cursor()\n",
    "cursor.execute(\"SELECT * FROM tabla_imagenes WHERE id_tabla1 = ?\", (id_tabla1,))\n",
    "rows = cursor.fetchall()\n",
    "\n",
    "for row in rows:\n",
    "    # Acceder a los valores de cada columna\n",
    "    id_tabla2 = row[0]\n",
    "    columna1 = row[1]\n",
    "    columna2 = row[2]\n",
    "    \n",
    "    # Realizar las operaciones deseadas con los datos de la fila\n",
    "    print(f\"ID tabla2: {id_tabla2}, Columna 1: {columna1}, Columna 2: {columna2}\")"
   ]
  },
  {
   "cell_type": "code",
   "execution_count": 24,
   "metadata": {},
   "outputs": [
    {
     "name": "stdout",
     "output_type": "stream",
     "text": [
      "4\n",
      "[289, 1299] - [199, 1240] - [10.7999463] - [-74.20335997] - 0.9248143434524536\n",
      "[306, 729] - [221, 647] - [10.8000284] - [-74.20335729] - 0.6331658363342285\n",
      "[64, 1210] - [6, 1116] - [10.79996125] - [-74.20338946] - 0.19952894747257233\n",
      "[505, 128] - [417, 65] - [10.80011177] - [-74.20332936] - 0.16567888855934143\n"
     ]
    }
   ],
   "source": [
    "import sqlite3\n",
    "\n",
    "# Establecer la conexión a la base de datos\n",
    "conexion = sqlite3.connect('test.db')\n",
    "cursor = conexion.cursor()\n",
    "\n",
    "# Nombre de la imagen y ruta a buscar\n",
    "nombre_imagen = 'DJI_0020.JPG'\n",
    "ruta = 'D:/Alexander_Espinosa/Tesis_Maestria/data/Salida_13_03_23/Dron/100FPLAN'\n",
    "\n",
    "# Ejecutar la consulta\n",
    "cursor.execute(\"SELECT * FROM tabla_imagenes AS ti JOIN resultado_imagen AS ri ON ti.id = ri.id_tabla_imagenes WHERE ti.nombre_imagen = ? AND ti.id_registro_carpeta IN (SELECT id FROM registro_carpeta WHERE ruta_carpeta = ?)\", (nombre_imagen, ruta))\n",
    "rows = cursor.fetchall()\n",
    "print(len(rows))\n",
    "# Recorrer y mostrar los resultados\n",
    "for row in rows:\n",
    "    # Acceder a los valores de las columnas\n",
    "    id_tabla_imagenes = row[0]\n",
    "    # ...\n",
    "    # Acceder a los valores de las columnas de resultado_imagen\n",
    "    pixel_min = row[5]\n",
    "    pixel_max = row[6]\n",
    "    latitud = row[7]\n",
    "    longitud = row[8]\n",
    "    score = row[9]\n",
    "    print(f\"{pixel_max} - {pixel_min} - {latitud} - {longitud} - {score}\")\n",
    "\n",
    "    # Hacer algo con los valores obtenidos\n",
    "\n",
    "# Cerrar la conexión\n",
    "conexion.close()"
   ]
  },
  {
   "cell_type": "code",
   "execution_count": 31,
   "metadata": {},
   "outputs": [
    {
     "data": {
      "text/plain": [
       "'[417, 65]'"
      ]
     },
     "execution_count": 31,
     "metadata": {},
     "output_type": "execute_result"
    }
   ],
   "source": [
    "pixel_min"
   ]
  },
  {
   "cell_type": "code",
   "execution_count": 32,
   "metadata": {},
   "outputs": [
    {
     "data": {
      "text/plain": [
       "'[505, 128]'"
      ]
     },
     "execution_count": 32,
     "metadata": {},
     "output_type": "execute_result"
    }
   ],
   "source": [
    "pixel_max"
   ]
  },
  {
   "cell_type": "code",
   "execution_count": 33,
   "metadata": {},
   "outputs": [
    {
     "name": "stdout",
     "output_type": "stream",
     "text": [
      "417\n",
      "65\n"
     ]
    }
   ],
   "source": [
    "# Eliminar los corchetes y dividir la cadena en números separados\n",
    "numbers = pixel_min.strip('[]').split(',')\n",
    "\n",
    "# Convertir los números de cadena a enteros\n",
    "num1 = int(numbers[0])\n",
    "num2 = int(numbers[1])\n",
    "\n",
    "print(num1)  # Output: 417\n",
    "print(num2)  # Output: 65"
   ]
  },
  {
   "cell_type": "code",
   "execution_count": 34,
   "metadata": {},
   "outputs": [
    {
     "data": {
      "text/plain": [
       "0.16567888855934143"
      ]
     },
     "execution_count": 34,
     "metadata": {},
     "output_type": "execute_result"
    }
   ],
   "source": [
    "score"
   ]
  },
  {
   "cell_type": "code",
   "execution_count": 39,
   "metadata": {},
   "outputs": [
    {
     "name": "stdout",
     "output_type": "stream",
     "text": [
      "Imagen: DJI_0010.JPG, Detecciones: 0\n",
      "Imagen: DJI_0020.JPG, Detecciones: 4\n",
      "Imagen: DJI_0030.JPG, Detecciones: 10\n",
      "Imagen: DJI_0040.JPG, Detecciones: 21\n",
      "Imagen: DJI_0050.JPG, Detecciones: 2\n",
      "Imagen: DJI_0060.JPG, Detecciones: 5\n",
      "Imagen: DJI_0070.JPG, Detecciones: 10\n",
      "[{'nombre': 'DJI_0010.JPG', 'n_detection': 0}, {'nombre': 'DJI_0020.JPG', 'n_detection': 4}, {'nombre': 'DJI_0030.JPG', 'n_detection': 10}, {'nombre': 'DJI_0040.JPG', 'n_detection': 21}, {'nombre': 'DJI_0050.JPG', 'n_detection': 2}, {'nombre': 'DJI_0060.JPG', 'n_detection': 5}, {'nombre': 'DJI_0070.JPG', 'n_detection': 10}]\n"
     ]
    }
   ],
   "source": [
    "lista_dic =[]\n",
    "conexion = sqlite3.connect('./test.db')  # Reemplaza con el nombre de tu base de datos\n",
    "cursor = conexion.cursor()\n",
    "ruta_carpeta=\"D:/Alexander_Espinosa/Tesis_Maestria/data/Salida_13_03_23/Dron/100FPLAN\"\n",
    "    # Consulta SQL para obtener los nombres de las imágenes y la cantidad de detecciones\n",
    "consulta = '''\n",
    "        SELECT i.nombre_imagen, i.cantidad_detect\n",
    "        FROM tabla_imagenes AS i\n",
    "        INNER JOIN registro_carpeta AS rc ON i.id_registro_carpeta = rc.id\n",
    "        WHERE rc.ruta_carpeta = ?\n",
    "    '''\n",
    "\n",
    "    # Ejecutar la consulta y obtener los resultados\n",
    "cursor.execute(consulta, (ruta_carpeta,))\n",
    "resultados = cursor.fetchall()\n",
    "conexion.close()\n",
    "\n",
    "    # Recorrer los resultados e imprimir los nombres de las imágenes y la cantidad de detecciones\n",
    "for nombre_imagen, cantidad_detect in resultados:\n",
    "        #print(f'Imagen: {nombre_imagen}, Detecciones: {cantidad_detect}')\n",
    "        diccionario = {\"nombre\": nombre_imagen, \"n_detection\": cantidad_detect}\n",
    "        lista_dic.append(diccionario)\n",
    "    # Cerrar la conexión\n",
    "\n",
    "\n",
    "print(lista_dic)"
   ]
  },
  {
   "cell_type": "code",
   "execution_count": 40,
   "metadata": {},
   "outputs": [
    {
     "name": "stdout",
     "output_type": "stream",
     "text": [
      "0\n",
      "{'nombre': 'DJI_0010.JPG', 'n_detection': 0}\n",
      "1\n",
      "{'nombre': 'DJI_0020.JPG', 'n_detection': 4}\n",
      "2\n",
      "{'nombre': 'DJI_0030.JPG', 'n_detection': 10}\n",
      "3\n",
      "{'nombre': 'DJI_0040.JPG', 'n_detection': 21}\n",
      "4\n",
      "{'nombre': 'DJI_0050.JPG', 'n_detection': 2}\n",
      "5\n",
      "{'nombre': 'DJI_0060.JPG', 'n_detection': 5}\n",
      "6\n",
      "{'nombre': 'DJI_0070.JPG', 'n_detection': 10}\n"
     ]
    }
   ],
   "source": [
    "for indice,imagenes in enumerate(lista_dic):\n",
    "    print(indice)\n",
    "    print(imagenes)"
   ]
  },
  {
   "cell_type": "code",
   "execution_count": 48,
   "metadata": {},
   "outputs": [
    {
     "name": "stdout",
     "output_type": "stream",
     "text": [
      "[289, 1299]\n",
      "[210, 1230]\n",
      "0.07063771039247513\n",
      "[311, 1054]\n",
      "[275, 1014]\n",
      "0.05888858810067177\n"
     ]
    }
   ],
   "source": [
    "import sqlite3\n",
    "\n",
    "# Conectar a la base de datos\n",
    "conexion = sqlite3.connect('test.db')  # Reemplaza con el nombre de tu base de datos\n",
    "cursor = conexion.cursor()\n",
    "\n",
    "# Definir los valores para nombre_imagen y ruta_carpeta\n",
    "nombre_imagen = 'DJI_0050.JPG'  # Reemplaza con el nombre de la imagen deseada\n",
    "ruta_carpeta = 'D:/Alexander_Espinosa/Tesis_Maestria/data/Salida_13_03_23/Dron/100FPLAN'  # Reemplaza con la ruta de la carpeta deseada\n",
    "\n",
    "# Consulta SQL para obtener los datos de resultado_imagen relacionados con nombre_imagen y ruta_carpeta\n",
    "consulta = '''\n",
    "    SELECT ri.*\n",
    "    FROM resultado_imagen AS ri\n",
    "    INNER JOIN tabla_imagenes AS ti ON ri.id_tabla_imagenes = ti.id\n",
    "    INNER JOIN registro_carpeta AS rc ON ti.id_registro_carpeta = rc.id\n",
    "    WHERE ti.nombre_imagen = ? AND rc.ruta_carpeta = ?\n",
    "'''\n",
    "\n",
    "# Ejecutar la consulta y obtener los resultados\n",
    "cursor.execute(consulta, (nombre_imagen, ruta_carpeta))\n",
    "resultados = cursor.fetchall()\n",
    "conexion.close()\n",
    "lista_dic=[]\n",
    "# Recorrer los resultados y procesar los datos\n",
    "for resultado in resultados:\n",
    "    # Acceder a los campos de la tabla resultado_imagen\n",
    "    id_resultado = resultado[0]\n",
    "    pixel_min = resultado[1]\n",
    "    pixel_max = resultado[2]\n",
    "    latitud = resultado[3]\n",
    "    longitud = resultado[4]\n",
    "    score = resultado[5]\n",
    "    id_tabla_imagenes = resultado[6]\n",
    "    print(pixel_max)\n",
    "    print(pixel_min)\n",
    "    print(score)\n",
    "    # Hacer algo con los datos...\n",
    "    diccionario = {\"pixel_min\": nombre_imagen, \"pixel_max\": cantidad_detect, \"lat\":latitud,\"long\":longitud}\n",
    "    lista_dic.append(diccionario)\n",
    "\n",
    "# Cerrar la conexión\n"
   ]
  },
  {
   "cell_type": "code",
   "execution_count": null,
   "metadata": {},
   "outputs": [],
   "source": []
  }
 ],
 "metadata": {
  "kernelspec": {
   "display_name": "venv",
   "language": "python",
   "name": "python3"
  },
  "language_info": {
   "codemirror_mode": {
    "name": "ipython",
    "version": 3
   },
   "file_extension": ".py",
   "mimetype": "text/x-python",
   "name": "python",
   "nbconvert_exporter": "python",
   "pygments_lexer": "ipython3",
   "version": "3.10.11"
  },
  "orig_nbformat": 4
 },
 "nbformat": 4,
 "nbformat_minor": 2
}
