{
 "cells": [
  {
   "cell_type": "code",
   "execution_count": 2,
   "metadata": {},
   "outputs": [],
   "source": [
    "import sqlite3"
   ]
  },
  {
   "cell_type": "code",
   "execution_count": null,
   "metadata": {},
   "outputs": [],
   "source": []
  },
  {
   "cell_type": "code",
   "execution_count": 41,
   "metadata": {},
   "outputs": [
    {
     "name": "stdout",
     "output_type": "stream",
     "text": [
      "[(1, '[199, 1240]', '[289, 1299]', '[10.7999463]', '[-74.20335997]', 0.9248143434524536, 2), (2, '[221, 647]', '[306, 729]', '[10.8000284]', '[-74.20335729]', 0.6331658363342285, 2), (3, '[6, 1116]', '[64, 1210]', '[10.79996125]', '[-74.20338946]', 0.19952894747257233, 2), (4, '[417, 65]', '[505, 128]', '[10.80011177]', '[-74.20332936]', 0.16567888855934143, 2), (5, '[339, 977]', '[394, 1035]', '[10.80003789]', '[-74.20335423]', 0.998923122882843, 3), (6, '[362, 1142]', '[438, 1243]', '[10.80001163]', '[-74.20334958]', 0.9954277276992798, 3), (7, '[829, 76]', '[919, 135]', '[10.80016507]', '[-74.20328267]', 0.9758849143981934, 3), (8, '[373, 1096]', '[453, 1140]', '[10.80002222]', '[-74.2033476]', 0.9313584566116332, 3), (9, '[844, 1202]', '[887, 1279]', '[10.80000485]', '[-74.20328379]', 0.5765292644500732, 3), (10, '[566, 1200]', '[589, 1237]', '[10.80000796]', '[-74.20332445]', 0.5140727162361145, 3), (11, '[630, 611]', '[666, 686]', '[10.80008842]', '[-74.20331443]', 0.4386324882507324, 3), (12, '[71, 1052]', '[110, 1142]', '[10.80002504]', '[-74.2033932]', 0.3352983593940735, 3), (13, '[10, 1031]', '[74, 1097]', '[10.8000297]', '[-74.20340011]', 0.10011758655309676, 3), (14, '[891, 111]', '[991, 158]', '[10.80016098]', '[-74.20327307]', 0.050947405397892, 3), (15, '[479, 1156]', '[556, 1237]', '[10.79998505]', '[-74.20345941]', 0.99449360370636, 4), (16, '[393, 491]', '[487, 545]', '[10.80008103]', '[-74.20347044]', 0.988591492176056, 4), (17, '[739, 856]', '[790, 930]', '[10.80002802]', '[-74.2034245]', 0.9858853816986084, 4), (18, '[3, 484]', '[79, 563]', '[10.80008018]', '[-74.20352669]', 0.9810950756072998, 4), (19, '[159, 909]', '[247, 944]', '[10.80002322]', '[-74.2035038]', 0.9709209203720092, 4), (20, '[510, 696]', '[577, 751]', '[10.80005191]', '[-74.20345574]', 0.953380048274994, 4), (21, '[552, 245]', '[613, 281]', '[10.80011693]', '[-74.20345022]', 0.8920249342918396, 4), (22, '[714, 402]', '[786, 443]', '[10.80009446]', '[-74.20342662]', 0.8822577595710754, 4), (23, '[747, 494]', '[809, 586]', '[10.80007792]', '[-74.20342252]', 0.8205114006996155, 4), (24, '[211, 633]', '[309, 688]', '[10.80006082]', '[-74.20349574]', 0.8052705526351929, 4), (25, '[196, 439]', '[237, 503]', '[10.80008767]', '[-74.20350196]', 0.7630263566970825, 4), (26, '[355, 333]', '[417, 376]', '[10.80010407]', '[-74.20347807]', 0.7452625036239624, 4), (27, '[477, 1144]', '[518, 1232]', '[10.79998618]', '[-74.20346224]', 0.543972373008728, 4), (28, '[506, 1110]', '[597, 1164]', '[10.79999339]', '[-74.20345461]', 0.4679100513458252, 4), (29, '[465, 1002]', '[519, 1110]', '[10.80000484]', '[-74.20346295]', 0.44673067331314087, 4), (30, '[608, 296]', '[684, 370]', '[10.80010718]', '[-74.20344118]', 0.4198640286922455, 4), (31, '[215, 648]', '[341, 714]', '[10.80005785]', '[-74.20349334]', 0.3881855905056, 4), (32, '[365, 46]', '[475, 85]', '[10.80014492]', '[-74.20347312]', 0.3102216124534607, 4), (33, '[261, 660]', '[340, 718]', '[10.80005686]', '[-74.20349009]', 0.2617016136646271, 4), (34, '[665, 565]', '[749, 611]', '[10.80007099]', '[-74.2034327]', 0.18425016105175016, 4), (35, '[483, 495]', '[530, 616]', '[10.80007566]', '[-74.20346097]', 0.06601788848638535, 4), (36, '[210, 1230]', '[289, 1299]', '[10.79981858]', '[-74.20346682]', 0.07063771039247513, 5), (37, '[275, 1014]', '[311, 1054]', '[10.79985113]', '[-74.20346059]', 0.05888858810067177, 5), (38, '[1202, 1113]', '[1289, 1194]', '[10.79967664]', '[-74.20329287]', 0.9987571239471436, 6), (39, '[614, 849]', '[657, 929]', '[10.79971399]', '[-74.20337918]', 0.9955710768699646, 6), (40, '[1314, 370]', '[1361, 446]', '[10.79978205]', '[-74.20327985]', 0.7528294324874878, 6), (41, '[1165, 247]', '[1221, 321]', '[10.79979974]', '[-74.20330022]', 0.21986640989780423, 6), (42, '[1231, 959]', '[1272, 1020]', '[10.79969984]', '[-74.20329202]', 0.08339998871088028, 6), (43, '[1323, 956]', '[1439, 1049]', '[10.79959176]', '[-74.20325187]', 0.9972966313362122, 7), (44, '[347, 1112]', '[451, 1182]', '[10.79957144]', '[-74.20339031]', 0.9970982074737548, 7), (45, '[471, 965]', '[540, 1018]', '[10.79959331]', '[-74.20337535]', 0.966328501701355, 7), (46, '[677, 1223]', '[716, 1295]', '[10.79955563]', '[-74.2033484]', 0.9470027089118958, 7), (47, '[212, 1154]', '[265, 1233]', '[10.7995648]', '[-74.20341303]', 0.9198746085166932, 7), (48, '[1064, 45]', '[1140, 127]', '[10.79972102]', '[-74.2032911]', 0.886681079864502, 7), (49, '[527, 1102]', '[627, 1157]', '[10.79957384]', '[-74.20336533]', 0.4452161192893982, 7), (50, '[1403, 1210]', '[1502, 1262]', '[10.79955874]', '[-74.20324171]', 0.3993055522441864, 7), (51, '[678, 717]', '[718, 802]', '[10.79962605]', '[-74.20334825]', 0.23880209028720856, 7), (52, '[1279, 2]', '[1325, 83]', '[10.79972723]', '[-74.20326302]', 0.09201177209615707, 7)]\n",
      "[10.8000284]\n"
     ]
    }
   ],
   "source": [
    "conn = sqlite3.connect('./test.db')\n",
    "cursor = conn.cursor()\n",
    "\n",
    "# Ejecutar la consulta SELECT *\n",
    "cursor.execute(\"SELECT * FROM resultado_imagen\")\n",
    "\n",
    "# Obtener los resultados de la consulta\n",
    "resultados = cursor.fetchall()\n",
    "print(resultados)\n",
    "\n",
    "# Recorrer los resultados e imprimir los valores\n",
    "print(resultados[1][3])\n",
    "for indice,recorrido in enumerate(resultados):\n",
    "    if (resultados[indice][3]==\"2023-05-23 14:52:58.694936\"):\n",
    "        print(resultados[indice][0])\n",
    "# Cerrar la conexión\n",
    "conn.close()"
   ]
  },
  {
   "cell_type": "code",
   "execution_count": 3,
   "metadata": {},
   "outputs": [
    {
     "name": "stdout",
     "output_type": "stream",
     "text": [
      "1\n",
      "12\n",
      "C:/Users/USUARIO/Documents/tesis/prueba_guide/prueba_imagenes/101FPLAN\n",
      "2023-05-27 16:11:23.745799\n",
      "\n",
      "2\n",
      "12\n",
      "C:/Users/USUARIO/Documents/tesis/prueba_guide/prueba_imagenes/carp_pocas\n",
      "2023-05-27 16:19:19.491015\n",
      "\n"
     ]
    }
   ],
   "source": [
    "conn = sqlite3.connect('./test.db')\n",
    "cursor = conn.cursor()\n",
    "\n",
    "# Ejecutar la consulta SELECT *\n",
    "cursor.execute(\"SELECT * FROM registro_carpeta\")\n",
    "\n",
    "# Obtener los resultados de la consulta\n",
    "resultados = cursor.fetchall()\n",
    "\n",
    "# Recorrer los resultados e imprimir los valores\n",
    "for fila in resultados:\n",
    "    for valor in fila:\n",
    "        print(valor)\n",
    "    print()\n",
    "\n",
    "# Cerrar la conexión\n",
    "conn.close()"
   ]
  },
  {
   "cell_type": "code",
   "execution_count": 20,
   "metadata": {},
   "outputs": [
    {
     "name": "stdout",
     "output_type": "stream",
     "text": [
      "No se encontró ninguna fila con los criterios especificados\n"
     ]
    }
   ],
   "source": [
    "import sqlite3\n",
    "\n",
    "# Conectar a la base de datos\n",
    "conexion = sqlite3.connect('./test.db')\n",
    "cursor = conexion.cursor()\n",
    "\n",
    "# Definir los valores de nombre_imagen y id_registro_carpeta\n",
    "nombre_imagen = \"DJI_0050.JPG\"\n",
    "id_registro_carpeta = 8\n",
    "\n",
    "# Consultar el id de la fila con nombre_imagen y id_registro_carpeta especificados\n",
    "cursor.execute(\"SELECT id FROM tabla_imagenes WHERE nombre_imagen = ? AND id_registro_carpeta = ?\", (nombre_imagen, id_registro_carpeta))\n",
    "resultado = cursor.fetchone()\n",
    "\n",
    "if resultado is not None:\n",
    "    id_fila = resultado[0]\n",
    "    print(f\"El id de la fila con nombre_imagen '{nombre_imagen}' y id_registro_carpeta {id_registro_carpeta} es: {id_fila}\")\n",
    "else:\n",
    "    print(\"No se encontró ninguna fila con los criterios especificados\")\n",
    "\n",
    "# Cerrar la conexión\n",
    "conexion.close()"
   ]
  },
  {
   "cell_type": "code",
   "execution_count": 21,
   "metadata": {},
   "outputs": [
    {
     "name": "stdout",
     "output_type": "stream",
     "text": [
      "ID encontrado: 1\n"
     ]
    }
   ],
   "source": [
    "import sqlite3\n",
    "\n",
    "# Establecer la conexión a la base de datos\n",
    "conexion = sqlite3.connect('test.db')\n",
    "cursor = conexion.cursor()\n",
    "\n",
    "# Nombre a buscar\n",
    "nombre = \"D:/Alexander_Espinosa/Tesis_Maestria/data/Salida_13_03_23/Dron/100FPLAN\"\n",
    "\n",
    "# Ejecutar la consulta\n",
    "cursor.execute(\"SELECT id FROM registro_carpeta WHERE ruta_carpeta = ?\", (nombre,))\n",
    "row = cursor.fetchone()\n",
    "\n",
    "if row is not None:\n",
    "    id_encontrado = row[0]\n",
    "    print(f\"ID encontrado: {id_encontrado}\")\n",
    "else:\n",
    "    print(\"No se encontró ningún ID para el nombre especificado\")\n",
    "\n",
    "# Cerrar la conexión\n",
    "conexion.close()"
   ]
  },
  {
   "cell_type": "code",
   "execution_count": 11,
   "metadata": {},
   "outputs": [
    {
     "ename": "OperationalError",
     "evalue": "no such column: id_tabla1",
     "output_type": "error",
     "traceback": [
      "\u001b[1;31m---------------------------------------------------------------------------\u001b[0m",
      "\u001b[1;31mOperationalError\u001b[0m                          Traceback (most recent call last)",
      "Cell \u001b[1;32mIn[11], line 10\u001b[0m\n\u001b[0;32m      7\u001b[0m id_tabla1 \u001b[39m=\u001b[39m \u001b[39m3\u001b[39m  \u001b[39m# ID del registro de tabla1\u001b[39;00m\n\u001b[0;32m      9\u001b[0m cursor \u001b[39m=\u001b[39m conexion\u001b[39m.\u001b[39mcursor()\n\u001b[1;32m---> 10\u001b[0m cursor\u001b[39m.\u001b[39;49mexecute(\u001b[39m\"\u001b[39;49m\u001b[39mSELECT * FROM tabla_imagenes WHERE id_tabla1 = ?\u001b[39;49m\u001b[39m\"\u001b[39;49m, (id_tabla1,))\n\u001b[0;32m     11\u001b[0m rows \u001b[39m=\u001b[39m cursor\u001b[39m.\u001b[39mfetchall()\n\u001b[0;32m     13\u001b[0m \u001b[39mfor\u001b[39;00m row \u001b[39min\u001b[39;00m rows:\n\u001b[0;32m     14\u001b[0m     \u001b[39m# Acceder a los valores de cada columna\u001b[39;00m\n",
      "\u001b[1;31mOperationalError\u001b[0m: no such column: id_tabla1"
     ]
    }
   ],
   "source": [
    "import sqlite3\n",
    "\n",
    "# Establecer la conexión a la base de datos\n",
    "conexion = sqlite3.connect('test.db')\n",
    "conexion.execute(\"PRAGMA foreign_keys = 1\")\n",
    "\n",
    "id_tabla1 = 3  # ID del registro de tabla1\n",
    "\n",
    "cursor = conexion.cursor()\n",
    "cursor.execute(\"SELECT * FROM tabla_imagenes WHERE id_tabla1 = ?\", (id_tabla1,))\n",
    "rows = cursor.fetchall()\n",
    "\n",
    "for row in rows:\n",
    "    # Acceder a los valores de cada columna\n",
    "    id_tabla2 = row[0]\n",
    "    columna1 = row[1]\n",
    "    columna2 = row[2]\n",
    "    \n",
    "    # Realizar las operaciones deseadas con los datos de la fila\n",
    "    print(f\"ID tabla2: {id_tabla2}, Columna 1: {columna1}, Columna 2: {columna2}\")"
   ]
  },
  {
   "cell_type": "code",
   "execution_count": 24,
   "metadata": {},
   "outputs": [
    {
     "name": "stdout",
     "output_type": "stream",
     "text": [
      "4\n",
      "[289, 1299] - [199, 1240] - [10.7999463] - [-74.20335997] - 0.9248143434524536\n",
      "[306, 729] - [221, 647] - [10.8000284] - [-74.20335729] - 0.6331658363342285\n",
      "[64, 1210] - [6, 1116] - [10.79996125] - [-74.20338946] - 0.19952894747257233\n",
      "[505, 128] - [417, 65] - [10.80011177] - [-74.20332936] - 0.16567888855934143\n"
     ]
    }
   ],
   "source": [
    "import sqlite3\n",
    "\n",
    "# Establecer la conexión a la base de datos\n",
    "conexion = sqlite3.connect('test.db')\n",
    "cursor = conexion.cursor()\n",
    "\n",
    "# Nombre de la imagen y ruta a buscar\n",
    "nombre_imagen = 'DJI_0020.JPG'\n",
    "ruta = 'D:/Alexander_Espinosa/Tesis_Maestria/data/Salida_13_03_23/Dron/100FPLAN'\n",
    "\n",
    "# Ejecutar la consulta\n",
    "cursor.execute(\"SELECT * FROM tabla_imagenes AS ti JOIN resultado_imagen AS ri ON ti.id = ri.id_tabla_imagenes WHERE ti.nombre_imagen = ? AND ti.id_registro_carpeta IN (SELECT id FROM registro_carpeta WHERE ruta_carpeta = ?)\", (nombre_imagen, ruta))\n",
    "rows = cursor.fetchall()\n",
    "print(len(rows))\n",
    "# Recorrer y mostrar los resultados\n",
    "for row in rows:\n",
    "    # Acceder a los valores de las columnas\n",
    "    id_tabla_imagenes = row[0]\n",
    "    # ...\n",
    "    # Acceder a los valores de las columnas de resultado_imagen\n",
    "    pixel_min = row[5]\n",
    "    pixel_max = row[6]\n",
    "    latitud = row[7]\n",
    "    longitud = row[8]\n",
    "    score = row[9]\n",
    "    print(f\"{pixel_max} - {pixel_min} - {latitud} - {longitud} - {score}\")\n",
    "\n",
    "    # Hacer algo con los valores obtenidos\n",
    "\n",
    "# Cerrar la conexión\n",
    "conexion.close()"
   ]
  },
  {
   "cell_type": "code",
   "execution_count": 31,
   "metadata": {},
   "outputs": [
    {
     "data": {
      "text/plain": [
       "'[417, 65]'"
      ]
     },
     "execution_count": 31,
     "metadata": {},
     "output_type": "execute_result"
    }
   ],
   "source": [
    "pixel_min"
   ]
  },
  {
   "cell_type": "code",
   "execution_count": 32,
   "metadata": {},
   "outputs": [
    {
     "data": {
      "text/plain": [
       "'[505, 128]'"
      ]
     },
     "execution_count": 32,
     "metadata": {},
     "output_type": "execute_result"
    }
   ],
   "source": [
    "pixel_max"
   ]
  },
  {
   "cell_type": "code",
   "execution_count": 33,
   "metadata": {},
   "outputs": [
    {
     "name": "stdout",
     "output_type": "stream",
     "text": [
      "417\n",
      "65\n"
     ]
    }
   ],
   "source": [
    "# Eliminar los corchetes y dividir la cadena en números separados\n",
    "numbers = pixel_min.strip('[]').split(',')\n",
    "\n",
    "# Convertir los números de cadena a enteros\n",
    "num1 = int(numbers[0])\n",
    "num2 = int(numbers[1])\n",
    "\n",
    "print(num1)  # Output: 417\n",
    "print(num2)  # Output: 65"
   ]
  },
  {
   "cell_type": "code",
   "execution_count": 34,
   "metadata": {},
   "outputs": [
    {
     "data": {
      "text/plain": [
       "0.16567888855934143"
      ]
     },
     "execution_count": 34,
     "metadata": {},
     "output_type": "execute_result"
    }
   ],
   "source": [
    "score"
   ]
  },
  {
   "cell_type": "code",
   "execution_count": 39,
   "metadata": {},
   "outputs": [
    {
     "name": "stdout",
     "output_type": "stream",
     "text": [
      "Imagen: DJI_0010.JPG, Detecciones: 0\n",
      "Imagen: DJI_0020.JPG, Detecciones: 4\n",
      "Imagen: DJI_0030.JPG, Detecciones: 10\n",
      "Imagen: DJI_0040.JPG, Detecciones: 21\n",
      "Imagen: DJI_0050.JPG, Detecciones: 2\n",
      "Imagen: DJI_0060.JPG, Detecciones: 5\n",
      "Imagen: DJI_0070.JPG, Detecciones: 10\n",
      "[{'nombre': 'DJI_0010.JPG', 'n_detection': 0}, {'nombre': 'DJI_0020.JPG', 'n_detection': 4}, {'nombre': 'DJI_0030.JPG', 'n_detection': 10}, {'nombre': 'DJI_0040.JPG', 'n_detection': 21}, {'nombre': 'DJI_0050.JPG', 'n_detection': 2}, {'nombre': 'DJI_0060.JPG', 'n_detection': 5}, {'nombre': 'DJI_0070.JPG', 'n_detection': 10}]\n"
     ]
    }
   ],
   "source": [
    "lista_dic =[]\n",
    "conexion = sqlite3.connect('./test.db')  # Reemplaza con el nombre de tu base de datos\n",
    "cursor = conexion.cursor()\n",
    "ruta_carpeta=\"D:/Alexander_Espinosa/Tesis_Maestria/data/Salida_13_03_23/Dron/100FPLAN\"\n",
    "    # Consulta SQL para obtener los nombres de las imágenes y la cantidad de detecciones\n",
    "consulta = '''\n",
    "        SELECT i.nombre_imagen, i.cantidad_detect\n",
    "        FROM tabla_imagenes AS i\n",
    "        INNER JOIN registro_carpeta AS rc ON i.id_registro_carpeta = rc.id\n",
    "        WHERE rc.ruta_carpeta = ?\n",
    "    '''\n",
    "\n",
    "    # Ejecutar la consulta y obtener los resultados\n",
    "cursor.execute(consulta, (ruta_carpeta,))\n",
    "resultados = cursor.fetchall()\n",
    "conexion.close()\n",
    "\n",
    "    # Recorrer los resultados e imprimir los nombres de las imágenes y la cantidad de detecciones\n",
    "for nombre_imagen, cantidad_detect in resultados:\n",
    "        #print(f'Imagen: {nombre_imagen}, Detecciones: {cantidad_detect}')\n",
    "        diccionario = {\"nombre\": nombre_imagen, \"n_detection\": cantidad_detect}\n",
    "        lista_dic.append(diccionario)\n",
    "    # Cerrar la conexión\n",
    "\n",
    "\n",
    "print(lista_dic)"
   ]
  },
  {
   "cell_type": "code",
   "execution_count": 40,
   "metadata": {},
   "outputs": [
    {
     "name": "stdout",
     "output_type": "stream",
     "text": [
      "0\n",
      "{'nombre': 'DJI_0010.JPG', 'n_detection': 0}\n",
      "1\n",
      "{'nombre': 'DJI_0020.JPG', 'n_detection': 4}\n",
      "2\n",
      "{'nombre': 'DJI_0030.JPG', 'n_detection': 10}\n",
      "3\n",
      "{'nombre': 'DJI_0040.JPG', 'n_detection': 21}\n",
      "4\n",
      "{'nombre': 'DJI_0050.JPG', 'n_detection': 2}\n",
      "5\n",
      "{'nombre': 'DJI_0060.JPG', 'n_detection': 5}\n",
      "6\n",
      "{'nombre': 'DJI_0070.JPG', 'n_detection': 10}\n"
     ]
    }
   ],
   "source": [
    "for indice,imagenes in enumerate(lista_dic):\n",
    "    print(indice)\n",
    "    print(imagenes)"
   ]
  },
  {
   "cell_type": "code",
   "execution_count": 48,
   "metadata": {},
   "outputs": [
    {
     "name": "stdout",
     "output_type": "stream",
     "text": [
      "[289, 1299]\n",
      "[210, 1230]\n",
      "0.07063771039247513\n",
      "[311, 1054]\n",
      "[275, 1014]\n",
      "0.05888858810067177\n"
     ]
    }
   ],
   "source": [
    "import sqlite3\n",
    "\n",
    "# Conectar a la base de datos\n",
    "conexion = sqlite3.connect('test.db')  # Reemplaza con el nombre de tu base de datos\n",
    "cursor = conexion.cursor()\n",
    "\n",
    "# Definir los valores para nombre_imagen y ruta_carpeta\n",
    "nombre_imagen = 'DJI_0050.JPG'  # Reemplaza con el nombre de la imagen deseada\n",
    "ruta_carpeta = 'D:/Alexander_Espinosa/Tesis_Maestria/data/Salida_13_03_23/Dron/100FPLAN'  # Reemplaza con la ruta de la carpeta deseada\n",
    "\n",
    "# Consulta SQL para obtener los datos de resultado_imagen relacionados con nombre_imagen y ruta_carpeta\n",
    "consulta = '''\n",
    "    SELECT ri.*\n",
    "    FROM resultado_imagen AS ri\n",
    "    INNER JOIN tabla_imagenes AS ti ON ri.id_tabla_imagenes = ti.id\n",
    "    INNER JOIN registro_carpeta AS rc ON ti.id_registro_carpeta = rc.id\n",
    "    WHERE ti.nombre_imagen = ? AND rc.ruta_carpeta = ?\n",
    "'''\n",
    "\n",
    "# Ejecutar la consulta y obtener los resultados\n",
    "cursor.execute(consulta, (nombre_imagen, ruta_carpeta))\n",
    "resultados = cursor.fetchall()\n",
    "conexion.close()\n",
    "lista_dic=[]\n",
    "# Recorrer los resultados y procesar los datos\n",
    "for resultado in resultados:\n",
    "    # Acceder a los campos de la tabla resultado_imagen\n",
    "    id_resultado = resultado[0]\n",
    "    pixel_min = resultado[1]\n",
    "    pixel_max = resultado[2]\n",
    "    latitud = resultado[3]\n",
    "    longitud = resultado[4]\n",
    "    score = resultado[5]\n",
    "    id_tabla_imagenes = resultado[6]\n",
    "    print(pixel_max)\n",
    "    print(pixel_min)\n",
    "    print(score)\n",
    "    # Hacer algo con los datos...\n",
    "    diccionario = {\"pixel_min\": nombre_imagen, \"pixel_max\": cantidad_detect, \"lat\":latitud,\"long\":longitud}\n",
    "    lista_dic.append(diccionario)\n",
    "\n",
    "# Cerrar la conexión\n"
   ]
  },
  {
   "cell_type": "code",
   "execution_count": 7,
   "metadata": {},
   "outputs": [
    {
     "name": "stdout",
     "output_type": "stream",
     "text": [
      "(45, '[652, 176]', '[706, 222]', '[10.55179803]', '[-74.22023189]', 0.9380086064338684, 13)\n",
      "(46, '[1334, 380]', '[1392, 423]', '[10.55174085]', '[-74.22003948]', 0.7570663094520569, 13)\n",
      "(47, '[837, 458]', '[891, 514]', '[10.5517169]', '[-74.22018005]', 0.6369180679321289, 13)\n",
      "(48, '[1128, 1164]', '[1155, 1217]', '[10.55151858]', '[-74.22010174]', 0.3051478862762451, 13)\n",
      "(49, '[352, 757]', '[420, 856]', '[10.55162675]', '[-74.22031443]', 0.15195727348327637, 13)\n",
      "(50, '[1098, 543]', '[1135, 584]', '[10.55169521]', '[-74.22010878]', 0.10855790227651596, 13)\n",
      "(51, '[432, 918]', '[477, 969]', '[10.55149653]', '[-74.22028893]', 0.989431619644165, 14)\n",
      "(52, '[332, 187]', '[398, 249]', '[10.55170156]', '[-74.2203141]', 0.9551725387573242, 14)\n",
      "(53, '[186, 633]', '[216, 692]', '[10.551576]', '[-74.22036047]', 0.3862218558788299, 14)\n",
      "(54, '[1023, 907]', '[1108, 943]', '[10.55150162]', '[-74.22011614]', 0.3529794216156006, 14)\n",
      "(55, '[751, 549]', '[789, 592]', '[10.55160201]', '[-74.22019985]', 0.22946268320083615, 14)\n",
      "(56, '[375, 1100]', '[449, 1162]', '[10.55144365]', '[-74.22030109]', 0.07887149602174759, 14)\n",
      "(57, '[327, 288]', '[382, 338]', '[10.55158429]', '[-74.22030823]', 0.97493714094162, 15)\n",
      "(58, '[408, 563]', '[462, 605]', '[10.55150734]', '[-74.2202856]', 0.7947855591773987, 15)\n",
      "(59, '[911, 555]', '[991, 613]', '[10.55150734]', '[-74.22013934]', 0.7093610167503357, 15)\n",
      "(60, '[121, 919]', '[167, 974]', '[10.55140493]', '[-74.22036792]', 0.6116582751274109, 15)\n",
      "(61, '[376, 1057]', '[456, 1109]', '[10.55136618]', '[-74.22029097]', 0.08719734102487564, 15)\n",
      "(62, '[33, 316]', '[82, 366]', '[10.55148503]', '[-74.22038339]', 0.9160652160644532, 16)\n",
      "(63, '[520, 824]', '[592, 865]', '[10.55134248]', '[-74.22024225]', 0.2164778858423233, 16)\n",
      "(64, '[1075, 581]', '[1178, 640]', '[10.55122607]', '[-74.2200627]', 0.2605651915073395, 18)\n",
      "(65, '[377, 1081]', '[427, 1148]', '[10.55108357]', '[-74.2202677]', 0.06705887615680695, 18)\n",
      "(66, '[1097, 556]', '[1160, 608]', '[10.55114253]', '[-74.22005342]', 0.8861113786697388, 19)\n",
      "(67, '[1344, 1114]', '[1387, 1229]', '[10.55097607]', '[-74.21998644]', 0.10637329518795012, 19)\n",
      "(68, '[1216, 290]', '[1278, 318]', '[10.55122109]', '[-74.22002007]', 0.08150672912597656, 19)\n",
      "(69, '[1250, 1143]', '[1315, 1252]', '[10.55096872]', '[-74.22000989]', 0.05876573175191879, 19)\n",
      "(70, '[306, 1077]', '[363, 1133]', '[10.55099501]', '[-74.2202778]', 0.050870493054389954, 19)\n",
      "(71, '[1536, 1155]', '[1578, 1250]', '[10.55093489]', '[-74.21992918]', 0.1781286597251892, 20)\n",
      "(72, '[842, 609]', '[901, 639]', '[10.55109815]', '[-74.22012295]', 0.050901148468256, 20)\n",
      "(73, '[720, 326]', '[806, 392]', '[10.55119034]', '[-74.22023023]', 0.9768309593200684, 21)\n",
      "(74, '[265, 819]', '[325, 897]', '[10.55104967]', '[-74.22036271]', 0.7964666485786438, 21)\n",
      "(75, '[948, 330]', '[986, 371]', '[10.55119288]', '[-74.22017289]', 0.7792662382125854, 21)\n",
      "(76, '[494, 524]', '[524, 601]', '[10.551133]', '[-74.22030198]', 0.3932992219924927, 21)\n",
      "(77, '[1353, 1032]', '[1449, 1095]', '[10.55099148]', '[-74.22005002]', 0.38630393147468567, 21)\n",
      "(78, '[1175, 40]', '[1236, 82]', '[10.55127479]', '[-74.22010538]', 0.05778948590159416, 21)\n",
      "(79, '[582, 806]', '[642, 883]', '[10.55114396]', '[-74.22028421]', 0.6411946415901184, 22)\n",
      "(80, '[757, 837]', '[800, 894]', '[10.55113803]', '[-74.22023708]', 0.26861682534217834, 22)\n",
      "(81, '[895, 1010]', '[937, 1068]', '[10.5510892]', '[-74.22019841]', 0.20438972115516665, 22)\n",
      "(82, '[737, 840]', '[799, 915]', '[10.55113464]', '[-74.22024018]', 0.15467287600040436, 22)\n",
      "(83, '[590, 957]', '[651, 1009]', '[10.55110473]', '[-74.22028167]', 0.13592466711997986, 22)\n",
      "(84, '[817, 1042]', '[867, 1084]', '[10.55108243]', '[-74.2202193]', 0.1039341539144516, 22)\n",
      "(85, '[154, 802]', '[211, 837]', '[10.55124265]', '[-74.2204127]', 0.24493879079818728, 23)\n",
      "(86, '[586, 1130]', '[627, 1183]', '[10.55114762]', '[-74.22029314]', 0.06813932210206985, 23)\n",
      "(87, '[1342, 329]', '[1406, 370]', '[10.55137519]', '[-74.22007656]', 0.05978143587708473, 23)\n",
      "(88, '[343, 801]', '[385, 838]', '[10.55130038]', '[-74.22036681]', 0.8844942450523376, 24)\n"
     ]
    }
   ],
   "source": [
    "def obtener_resultados_por_ruta_carpeta(ruta_carpeta):\n",
    "    conexion = sqlite3.connect(\"test.db\")  # Reemplaza con el nombre de tu base de datos\n",
    "    cursor = conexion.cursor()\n",
    "\n",
    "    # Realizar la consulta utilizando JOIN para combinar las tablas\n",
    "    consulta = '''SELECT r.*\n",
    "                  FROM resultado_imagen r\n",
    "                  INNER JOIN tabla_imagenes t ON r.id_tabla_imagenes = t.id\n",
    "                  INNER JOIN registro_carpeta rc ON t.id_registro_carpeta = rc.id\n",
    "                  WHERE rc.ruta_carpeta = ?'''\n",
    "    \n",
    "    cursor.execute(consulta, (ruta_carpeta,))\n",
    "    resultados = cursor.fetchall()\n",
    "\n",
    "    conexion.close()\n",
    "\n",
    "    return resultados\n",
    "\n",
    "# Ejemplo de uso\n",
    "ruta_carpeta = \"C:/Users/USUARIO/Documents/tesis/prueba_guide/prueba_imagenes/carp_pocas\"\n",
    "resultados = obtener_resultados_por_ruta_carpeta(ruta_carpeta)\n",
    "lista=[]\n",
    "# Recorrer los resultados obtenidos\n",
    "for resultado in resultados:\n",
    "    # Procesar cada fila de resultado\n",
    "    print(resultado)\n",
    "#Asegúrate de reemplazar \"tu_base_de_datos.db\" con el nombre y ubicación de tu base de datos SQLite. La función obtener_resultados_por_ruta_carpeta recibe la ruta_carpeta como parámetro y devuelve una lista de todas las filas de la tabla resultado_imagen asociadas a esa ruta_carpeta. Puedes ajustar la consulta SQL según la estructura de tus tablas y los nombres de tus columnas en la base de datos.\n",
    "\n",
    "\n",
    "\n",
    "\n",
    "\n",
    "\n"
   ]
  },
  {
   "cell_type": "code",
   "execution_count": 8,
   "metadata": {},
   "outputs": [
    {
     "name": "stdout",
     "output_type": "stream",
     "text": [
      "Latitud: [10.55179803], Longitud: [-74.22023189]\n",
      "Latitud: [10.55174085], Longitud: [-74.22003948]\n",
      "Latitud: [10.5517169], Longitud: [-74.22018005]\n",
      "Latitud: [10.55151858], Longitud: [-74.22010174]\n",
      "Latitud: [10.55162675], Longitud: [-74.22031443]\n",
      "Latitud: [10.55169521], Longitud: [-74.22010878]\n",
      "Latitud: [10.55149653], Longitud: [-74.22028893]\n",
      "Latitud: [10.55170156], Longitud: [-74.2203141]\n",
      "Latitud: [10.551576], Longitud: [-74.22036047]\n",
      "Latitud: [10.55150162], Longitud: [-74.22011614]\n",
      "Latitud: [10.55160201], Longitud: [-74.22019985]\n",
      "Latitud: [10.55144365], Longitud: [-74.22030109]\n",
      "Latitud: [10.55158429], Longitud: [-74.22030823]\n",
      "Latitud: [10.55150734], Longitud: [-74.2202856]\n",
      "Latitud: [10.55150734], Longitud: [-74.22013934]\n",
      "Latitud: [10.55140493], Longitud: [-74.22036792]\n",
      "Latitud: [10.55136618], Longitud: [-74.22029097]\n",
      "Latitud: [10.55148503], Longitud: [-74.22038339]\n",
      "Latitud: [10.55134248], Longitud: [-74.22024225]\n",
      "Latitud: [10.55122607], Longitud: [-74.2200627]\n",
      "Latitud: [10.55108357], Longitud: [-74.2202677]\n",
      "Latitud: [10.55114253], Longitud: [-74.22005342]\n",
      "Latitud: [10.55097607], Longitud: [-74.21998644]\n",
      "Latitud: [10.55122109], Longitud: [-74.22002007]\n",
      "Latitud: [10.55096872], Longitud: [-74.22000989]\n",
      "Latitud: [10.55099501], Longitud: [-74.2202778]\n",
      "Latitud: [10.55093489], Longitud: [-74.21992918]\n",
      "Latitud: [10.55109815], Longitud: [-74.22012295]\n",
      "Latitud: [10.55119034], Longitud: [-74.22023023]\n",
      "Latitud: [10.55104967], Longitud: [-74.22036271]\n",
      "Latitud: [10.55119288], Longitud: [-74.22017289]\n",
      "Latitud: [10.551133], Longitud: [-74.22030198]\n",
      "Latitud: [10.55099148], Longitud: [-74.22005002]\n",
      "Latitud: [10.55127479], Longitud: [-74.22010538]\n",
      "Latitud: [10.55114396], Longitud: [-74.22028421]\n",
      "Latitud: [10.55113803], Longitud: [-74.22023708]\n",
      "Latitud: [10.5510892], Longitud: [-74.22019841]\n",
      "Latitud: [10.55113464], Longitud: [-74.22024018]\n",
      "Latitud: [10.55110473], Longitud: [-74.22028167]\n",
      "Latitud: [10.55108243], Longitud: [-74.2202193]\n",
      "Latitud: [10.55124265], Longitud: [-74.2204127]\n",
      "Latitud: [10.55114762], Longitud: [-74.22029314]\n",
      "Latitud: [10.55137519], Longitud: [-74.22007656]\n",
      "Latitud: [10.55130038], Longitud: [-74.22036681]\n"
     ]
    }
   ],
   "source": [
    "import sqlite3\n",
    "\n",
    "def obtener_latitudes_longitudes_por_ruta_carpeta(ruta_carpeta):\n",
    "    conexion = sqlite3.connect(\"test.db\")  # Reemplaza con el nombre de tu base de datos\n",
    "    cursor = conexion.cursor()\n",
    "\n",
    "    # Realizar la consulta utilizando JOIN para combinar las tablas\n",
    "    consulta = '''SELECT r.latitud, r.longitud\n",
    "                  FROM resultado_imagen r\n",
    "                  INNER JOIN tabla_imagenes t ON r.id_tabla_imagenes = t.id\n",
    "                  INNER JOIN registro_carpeta rc ON t.id_registro_carpeta = rc.id\n",
    "                  WHERE rc.ruta_carpeta = ?'''\n",
    "    \n",
    "    cursor.execute(consulta, (ruta_carpeta,))\n",
    "    resultados = cursor.fetchall()\n",
    "\n",
    "    conexion.close()\n",
    "\n",
    "    # Crear una lista con las latitudes y longitudes\n",
    "    latitudes_longitudes = [(latitud, longitud) for latitud, longitud in resultados]\n",
    "\n",
    "    return latitudes_longitudes\n",
    "\n",
    "# Ejemplo de uso\n",
    "ruta_carpeta = \"C:/Users/USUARIO/Documents/tesis/prueba_guide/prueba_imagenes/carp_pocas\"\n",
    "latitudes_longitudes = obtener_latitudes_longitudes_por_ruta_carpeta(ruta_carpeta)\n",
    "\n",
    "# Imprimir la lista de latitudes y longitudes\n",
    "for latitud, longitud in latitudes_longitudes:\n",
    "    print(f\"Latitud: {latitud}, Longitud: {longitud}\")"
   ]
  },
  {
   "cell_type": "code",
   "execution_count": 9,
   "metadata": {},
   "outputs": [
    {
     "data": {
      "text/plain": [
       "[('[10.55179803]', '[-74.22023189]'),\n",
       " ('[10.55174085]', '[-74.22003948]'),\n",
       " ('[10.5517169]', '[-74.22018005]'),\n",
       " ('[10.55151858]', '[-74.22010174]'),\n",
       " ('[10.55162675]', '[-74.22031443]'),\n",
       " ('[10.55169521]', '[-74.22010878]'),\n",
       " ('[10.55149653]', '[-74.22028893]'),\n",
       " ('[10.55170156]', '[-74.2203141]'),\n",
       " ('[10.551576]', '[-74.22036047]'),\n",
       " ('[10.55150162]', '[-74.22011614]'),\n",
       " ('[10.55160201]', '[-74.22019985]'),\n",
       " ('[10.55144365]', '[-74.22030109]'),\n",
       " ('[10.55158429]', '[-74.22030823]'),\n",
       " ('[10.55150734]', '[-74.2202856]'),\n",
       " ('[10.55150734]', '[-74.22013934]'),\n",
       " ('[10.55140493]', '[-74.22036792]'),\n",
       " ('[10.55136618]', '[-74.22029097]'),\n",
       " ('[10.55148503]', '[-74.22038339]'),\n",
       " ('[10.55134248]', '[-74.22024225]'),\n",
       " ('[10.55122607]', '[-74.2200627]'),\n",
       " ('[10.55108357]', '[-74.2202677]'),\n",
       " ('[10.55114253]', '[-74.22005342]'),\n",
       " ('[10.55097607]', '[-74.21998644]'),\n",
       " ('[10.55122109]', '[-74.22002007]'),\n",
       " ('[10.55096872]', '[-74.22000989]'),\n",
       " ('[10.55099501]', '[-74.2202778]'),\n",
       " ('[10.55093489]', '[-74.21992918]'),\n",
       " ('[10.55109815]', '[-74.22012295]'),\n",
       " ('[10.55119034]', '[-74.22023023]'),\n",
       " ('[10.55104967]', '[-74.22036271]'),\n",
       " ('[10.55119288]', '[-74.22017289]'),\n",
       " ('[10.551133]', '[-74.22030198]'),\n",
       " ('[10.55099148]', '[-74.22005002]'),\n",
       " ('[10.55127479]', '[-74.22010538]'),\n",
       " ('[10.55114396]', '[-74.22028421]'),\n",
       " ('[10.55113803]', '[-74.22023708]'),\n",
       " ('[10.5510892]', '[-74.22019841]'),\n",
       " ('[10.55113464]', '[-74.22024018]'),\n",
       " ('[10.55110473]', '[-74.22028167]'),\n",
       " ('[10.55108243]', '[-74.2202193]'),\n",
       " ('[10.55124265]', '[-74.2204127]'),\n",
       " ('[10.55114762]', '[-74.22029314]'),\n",
       " ('[10.55137519]', '[-74.22007656]'),\n",
       " ('[10.55130038]', '[-74.22036681]')]"
      ]
     },
     "execution_count": 9,
     "metadata": {},
     "output_type": "execute_result"
    }
   ],
   "source": [
    "latitudes_longitudes"
   ]
  },
  {
   "cell_type": "code",
   "execution_count": 11,
   "metadata": {},
   "outputs": [],
   "source": [
    "import shapefile\n",
    "import csv\n",
    "\n",
    "def convertir_a_shapefile(latitudes_longitudes, nombre_archivo):\n",
    "    w = shapefile.Writer(nombre_archivo, shapeType=shapefile.POINT)\n",
    "    w.field('Latitud', 'F', decimal=10)\n",
    "    w.field('Longitud', 'F', decimal=10)\n",
    "\n",
    "    for latitud, longitud in latitudes_longitudes:\n",
    "        latitud = float(latitud.strip('[]'))\n",
    "        longitud = float(longitud.strip('[]'))\n",
    "        w.point(longitud, latitud)\n",
    "        w.record(latitud, longitud)\n",
    "\n",
    "    w.close()\n",
    "\n",
    "def enumerar_en_csv(latitudes_longitudes, nombre_archivo):\n",
    "    with open(nombre_archivo, 'w', newline='') as archivo_csv:\n",
    "        writer = csv.writer(archivo_csv)\n",
    "        writer.writerow(['Latitud', 'Longitud'])\n",
    "        for latitud, longitud in latitudes_longitudes:\n",
    "            writer.writerow([latitud.strip('[]'), longitud.strip('[]')])"
   ]
  },
  {
   "cell_type": "code",
   "execution_count": 12,
   "metadata": {},
   "outputs": [],
   "source": [
    "convertir_a_shapefile(latitudes_longitudes, 'puntos.shp')\n",
    "\n",
    "# Enumerar en archivo CSV\n",
    "enumerar_en_csv(latitudes_longitudes, 'coordenadas.csv')"
   ]
  },
  {
   "cell_type": "code",
   "execution_count": 4,
   "metadata": {},
   "outputs": [
    {
     "name": "stdout",
     "output_type": "stream",
     "text": [
      "La fecha asociada a la carpeta C:/Users/USUARIO/Documents/tesis/prueba_guide/prueba_imagenes/carp_pocas es: 2023-05-27 16:19:19.491015\n"
     ]
    }
   ],
   "source": [
    "def consultar_fecha_por_direccion_carpeta(direccion_carpeta):\n",
    "    # Establecer conexión con la base de datos\n",
    "    conexion = sqlite3.connect('test.db')  # Reemplaza con el nombre de tu base de datos\n",
    "\n",
    "    # Crear un cursor\n",
    "    cursor = conexion.cursor()\n",
    "\n",
    "    # Ejecutar la consulta para obtener la fecha asociada a la dirección de carpeta\n",
    "    cursor.execute(\"SELECT fecha FROM registro_carpeta WHERE ruta_carpeta = ?\", (direccion_carpeta,))\n",
    "    \n",
    "    # Obtener el resultado de la consulta\n",
    "    resultado = cursor.fetchone()\n",
    "\n",
    "    # Cerrar la conexión con la base de datos\n",
    "    conexion.close()\n",
    "\n",
    "    if resultado:\n",
    "        fecha = resultado[0]\n",
    "        return fecha\n",
    "    else:\n",
    "        return None\n",
    "\n",
    "# Ejemplo de uso\n",
    "direccion_carpeta = \"C:/Users/USUARIO/Documents/tesis/prueba_guide/prueba_imagenes/carp_pocas\"\n",
    "fecha = consultar_fecha_por_direccion_carpeta(direccion_carpeta)\n",
    "\n",
    "if fecha:\n",
    "    print(f\"La fecha asociada a la carpeta {direccion_carpeta} es: {fecha}\")\n",
    "else:\n",
    "    print(f\"No se encontró ninguna fecha para la carpeta {direccion_carpeta}\")"
   ]
  },
  {
   "cell_type": "code",
   "execution_count": null,
   "metadata": {},
   "outputs": [],
   "source": [
    "def crear_carpeta_con_fecha(direccion_carpeta):\n",
    "    # Establecer conexión con la base de datos\n",
    "    conexion = sqlite3.connect('test.db')  # Reemplaza con el nombre de tu base de datos\n",
    "\n",
    "    # Crear un cursor\n",
    "    cursor = conexion.cursor()\n",
    "\n",
    "    # Ejecutar la consulta para obtener la fecha asociada a la dirección de carpeta\n",
    "    cursor.execute(\"SELECT fecha FROM registro_carpeta WHERE ruta_carpeta = ?\", (direccion_carpeta,))\n",
    "\n",
    "    # Obtener el resultado de la consulta\n",
    "    resultado = cursor.fetchone()\n",
    "\n",
    "    # Cerrar la conexión con la base de datos\n",
    "    conexion.close()\n",
    "\n",
    "    if resultado:\n",
    "        fecha = resultado[0]\n",
    "\n",
    "        # Crear la carpeta con el nombre de la fecha\n",
    "        carpeta_fecha = os.path.join(direccion_carpeta, fecha)\n",
    "\n",
    "        # Verificar si la carpeta ya existe\n",
    "        if not os.path.exists(carpeta_fecha):\n",
    "            os.makedirs(carpeta_fecha)\n",
    "            print(f\"Se ha creado la carpeta {carpeta_fecha}\")\n",
    "        else:\n",
    "            print(f\"La carpeta {carpeta_fecha} ya existe\")\n",
    "    else:\n",
    "        print(f\"No se encontró ninguna fecha para la carpeta {direccion_carpeta}\")\n",
    "\n",
    "# Ejemplo de uso\n",
    "direccion_carpeta = \"/ruta/a/la/carpeta\"\n",
    "crear_carpeta_con_fecha(direccion_carpeta)"
   ]
  }
 ],
 "metadata": {
  "kernelspec": {
   "display_name": "venv",
   "language": "python",
   "name": "python3"
  },
  "language_info": {
   "codemirror_mode": {
    "name": "ipython",
    "version": 3
   },
   "file_extension": ".py",
   "mimetype": "text/x-python",
   "name": "python",
   "nbconvert_exporter": "python",
   "pygments_lexer": "ipython3",
   "version": "3.11.3"
  },
  "orig_nbformat": 4
 },
 "nbformat": 4,
 "nbformat_minor": 2
}
