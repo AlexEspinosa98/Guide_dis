{
 "cells": [
  {
   "cell_type": "code",
   "execution_count": 1,
   "metadata": {},
   "outputs": [],
   "source": [
    "import sqlite3"
   ]
  },
  {
   "cell_type": "code",
   "execution_count": null,
   "metadata": {},
   "outputs": [],
   "source": []
  },
  {
   "cell_type": "code",
   "execution_count": 41,
   "metadata": {},
   "outputs": [
    {
     "name": "stdout",
     "output_type": "stream",
     "text": [
      "[(1, '[199, 1240]', '[289, 1299]', '[10.7999463]', '[-74.20335997]', 0.9248143434524536, 2), (2, '[221, 647]', '[306, 729]', '[10.8000284]', '[-74.20335729]', 0.6331658363342285, 2), (3, '[6, 1116]', '[64, 1210]', '[10.79996125]', '[-74.20338946]', 0.19952894747257233, 2), (4, '[417, 65]', '[505, 128]', '[10.80011177]', '[-74.20332936]', 0.16567888855934143, 2), (5, '[339, 977]', '[394, 1035]', '[10.80003789]', '[-74.20335423]', 0.998923122882843, 3), (6, '[362, 1142]', '[438, 1243]', '[10.80001163]', '[-74.20334958]', 0.9954277276992798, 3), (7, '[829, 76]', '[919, 135]', '[10.80016507]', '[-74.20328267]', 0.9758849143981934, 3), (8, '[373, 1096]', '[453, 1140]', '[10.80002222]', '[-74.2033476]', 0.9313584566116332, 3), (9, '[844, 1202]', '[887, 1279]', '[10.80000485]', '[-74.20328379]', 0.5765292644500732, 3), (10, '[566, 1200]', '[589, 1237]', '[10.80000796]', '[-74.20332445]', 0.5140727162361145, 3), (11, '[630, 611]', '[666, 686]', '[10.80008842]', '[-74.20331443]', 0.4386324882507324, 3), (12, '[71, 1052]', '[110, 1142]', '[10.80002504]', '[-74.2033932]', 0.3352983593940735, 3), (13, '[10, 1031]', '[74, 1097]', '[10.8000297]', '[-74.20340011]', 0.10011758655309676, 3), (14, '[891, 111]', '[991, 158]', '[10.80016098]', '[-74.20327307]', 0.050947405397892, 3), (15, '[479, 1156]', '[556, 1237]', '[10.79998505]', '[-74.20345941]', 0.99449360370636, 4), (16, '[393, 491]', '[487, 545]', '[10.80008103]', '[-74.20347044]', 0.988591492176056, 4), (17, '[739, 856]', '[790, 930]', '[10.80002802]', '[-74.2034245]', 0.9858853816986084, 4), (18, '[3, 484]', '[79, 563]', '[10.80008018]', '[-74.20352669]', 0.9810950756072998, 4), (19, '[159, 909]', '[247, 944]', '[10.80002322]', '[-74.2035038]', 0.9709209203720092, 4), (20, '[510, 696]', '[577, 751]', '[10.80005191]', '[-74.20345574]', 0.953380048274994, 4), (21, '[552, 245]', '[613, 281]', '[10.80011693]', '[-74.20345022]', 0.8920249342918396, 4), (22, '[714, 402]', '[786, 443]', '[10.80009446]', '[-74.20342662]', 0.8822577595710754, 4), (23, '[747, 494]', '[809, 586]', '[10.80007792]', '[-74.20342252]', 0.8205114006996155, 4), (24, '[211, 633]', '[309, 688]', '[10.80006082]', '[-74.20349574]', 0.8052705526351929, 4), (25, '[196, 439]', '[237, 503]', '[10.80008767]', '[-74.20350196]', 0.7630263566970825, 4), (26, '[355, 333]', '[417, 376]', '[10.80010407]', '[-74.20347807]', 0.7452625036239624, 4), (27, '[477, 1144]', '[518, 1232]', '[10.79998618]', '[-74.20346224]', 0.543972373008728, 4), (28, '[506, 1110]', '[597, 1164]', '[10.79999339]', '[-74.20345461]', 0.4679100513458252, 4), (29, '[465, 1002]', '[519, 1110]', '[10.80000484]', '[-74.20346295]', 0.44673067331314087, 4), (30, '[608, 296]', '[684, 370]', '[10.80010718]', '[-74.20344118]', 0.4198640286922455, 4), (31, '[215, 648]', '[341, 714]', '[10.80005785]', '[-74.20349334]', 0.3881855905056, 4), (32, '[365, 46]', '[475, 85]', '[10.80014492]', '[-74.20347312]', 0.3102216124534607, 4), (33, '[261, 660]', '[340, 718]', '[10.80005686]', '[-74.20349009]', 0.2617016136646271, 4), (34, '[665, 565]', '[749, 611]', '[10.80007099]', '[-74.2034327]', 0.18425016105175016, 4), (35, '[483, 495]', '[530, 616]', '[10.80007566]', '[-74.20346097]', 0.06601788848638535, 4), (36, '[210, 1230]', '[289, 1299]', '[10.79981858]', '[-74.20346682]', 0.07063771039247513, 5), (37, '[275, 1014]', '[311, 1054]', '[10.79985113]', '[-74.20346059]', 0.05888858810067177, 5), (38, '[1202, 1113]', '[1289, 1194]', '[10.79967664]', '[-74.20329287]', 0.9987571239471436, 6), (39, '[614, 849]', '[657, 929]', '[10.79971399]', '[-74.20337918]', 0.9955710768699646, 6), (40, '[1314, 370]', '[1361, 446]', '[10.79978205]', '[-74.20327985]', 0.7528294324874878, 6), (41, '[1165, 247]', '[1221, 321]', '[10.79979974]', '[-74.20330022]', 0.21986640989780423, 6), (42, '[1231, 959]', '[1272, 1020]', '[10.79969984]', '[-74.20329202]', 0.08339998871088028, 6), (43, '[1323, 956]', '[1439, 1049]', '[10.79959176]', '[-74.20325187]', 0.9972966313362122, 7), (44, '[347, 1112]', '[451, 1182]', '[10.79957144]', '[-74.20339031]', 0.9970982074737548, 7), (45, '[471, 965]', '[540, 1018]', '[10.79959331]', '[-74.20337535]', 0.966328501701355, 7), (46, '[677, 1223]', '[716, 1295]', '[10.79955563]', '[-74.2033484]', 0.9470027089118958, 7), (47, '[212, 1154]', '[265, 1233]', '[10.7995648]', '[-74.20341303]', 0.9198746085166932, 7), (48, '[1064, 45]', '[1140, 127]', '[10.79972102]', '[-74.2032911]', 0.886681079864502, 7), (49, '[527, 1102]', '[627, 1157]', '[10.79957384]', '[-74.20336533]', 0.4452161192893982, 7), (50, '[1403, 1210]', '[1502, 1262]', '[10.79955874]', '[-74.20324171]', 0.3993055522441864, 7), (51, '[678, 717]', '[718, 802]', '[10.79962605]', '[-74.20334825]', 0.23880209028720856, 7), (52, '[1279, 2]', '[1325, 83]', '[10.79972723]', '[-74.20326302]', 0.09201177209615707, 7)]\n",
      "[10.8000284]\n"
     ]
    }
   ],
   "source": [
    "conn = sqlite3.connect('./test.db')\n",
    "cursor = conn.cursor()\n",
    "\n",
    "# Ejecutar la consulta SELECT *\n",
    "cursor.execute(\"SELECT * FROM resultado_imagen\")\n",
    "\n",
    "# Obtener los resultados de la consulta\n",
    "resultados = cursor.fetchall()\n",
    "print(resultados)\n",
    "\n",
    "# Recorrer los resultados e imprimir los valores\n",
    "print(resultados[1][3])\n",
    "for indice,recorrido in enumerate(resultados):\n",
    "    if (resultados[indice][3]==\"2023-05-23 14:52:58.694936\"):\n",
    "        print(resultados[indice][0])\n",
    "# Cerrar la conexión\n",
    "conn.close()"
   ]
  },
  {
   "cell_type": "code",
   "execution_count": 121,
   "metadata": {},
   "outputs": [
    {
     "name": "stdout",
     "output_type": "stream",
     "text": [
      "1\n",
      "DJI_0010.JPG\n",
      "0\n",
      "1\n",
      "\n",
      "2\n",
      "DJI_0020.JPG\n",
      "4\n",
      "1\n",
      "\n",
      "3\n",
      "DJI_0030.JPG\n",
      "10\n",
      "1\n",
      "\n",
      "4\n",
      "DJI_0040.JPG\n",
      "21\n",
      "1\n",
      "\n",
      "5\n",
      "DJI_0050.JPG\n",
      "2\n",
      "1\n",
      "\n",
      "6\n",
      "DJI_0060.JPG\n",
      "5\n",
      "1\n",
      "\n",
      "7\n",
      "DJI_0070.JPG\n",
      "10\n",
      "1\n",
      "\n",
      "15\n",
      "DJI_0010.JPG\n",
      "0\n",
      "3\n",
      "\n",
      "16\n",
      "DJI_0020.JPG\n",
      "4\n",
      "3\n",
      "\n",
      "17\n",
      "DJI_0030.JPG\n",
      "10\n",
      "3\n",
      "\n",
      "18\n",
      "DJI_0040.JPG\n",
      "21\n",
      "3\n",
      "\n",
      "19\n",
      "DJI_0050.JPG\n",
      "2\n",
      "3\n",
      "\n",
      "20\n",
      "DJI_0060.JPG\n",
      "5\n",
      "3\n",
      "\n",
      "21\n",
      "DJI_0070.JPG\n",
      "10\n",
      "3\n",
      "\n",
      "22\n",
      "DJI_0010.JPG\n",
      "0\n",
      "4\n",
      "\n",
      "23\n",
      "DJI_0020.JPG\n",
      "4\n",
      "4\n",
      "\n",
      "24\n",
      "DJI_0030.JPG\n",
      "10\n",
      "4\n",
      "\n",
      "25\n",
      "DJI_0040.JPG\n",
      "21\n",
      "4\n",
      "\n",
      "26\n",
      "DJI_0050.JPG\n",
      "2\n",
      "4\n",
      "\n",
      "27\n",
      "DJI_0060.JPG\n",
      "5\n",
      "4\n",
      "\n",
      "28\n",
      "DJI_0070.JPG\n",
      "10\n",
      "4\n",
      "\n"
     ]
    }
   ],
   "source": [
    "conn = sqlite3.connect('./test.db')\n",
    "cursor = conn.cursor()\n",
    "\n",
    "# Ejecutar la consulta SELECT *\n",
    "cursor.execute(\"SELECT * FROM tabla_imagenes\")\n",
    "\n",
    "# Obtener los resultados de la consulta\n",
    "resultados = cursor.fetchall()\n",
    "\n",
    "# Recorrer los resultados e imprimir los valores\n",
    "for fila in resultados:\n",
    "    for valor in fila:\n",
    "        print(valor)\n",
    "    print()\n",
    "\n",
    "# Cerrar la conexión\n",
    "conn.close()"
   ]
  },
  {
   "cell_type": "code",
   "execution_count": 20,
   "metadata": {},
   "outputs": [
    {
     "name": "stdout",
     "output_type": "stream",
     "text": [
      "No se encontró ninguna fila con los criterios especificados\n"
     ]
    }
   ],
   "source": [
    "import sqlite3\n",
    "\n",
    "# Conectar a la base de datos\n",
    "conexion = sqlite3.connect('./test.db')\n",
    "cursor = conexion.cursor()\n",
    "\n",
    "# Definir los valores de nombre_imagen y id_registro_carpeta\n",
    "nombre_imagen = \"DJI_0050.JPG\"\n",
    "id_registro_carpeta = 8\n",
    "\n",
    "# Consultar el id de la fila con nombre_imagen y id_registro_carpeta especificados\n",
    "cursor.execute(\"SELECT id FROM tabla_imagenes WHERE nombre_imagen = ? AND id_registro_carpeta = ?\", (nombre_imagen, id_registro_carpeta))\n",
    "resultado = cursor.fetchone()\n",
    "\n",
    "if resultado is not None:\n",
    "    id_fila = resultado[0]\n",
    "    print(f\"El id de la fila con nombre_imagen '{nombre_imagen}' y id_registro_carpeta {id_registro_carpeta} es: {id_fila}\")\n",
    "else:\n",
    "    print(\"No se encontró ninguna fila con los criterios especificados\")\n",
    "\n",
    "# Cerrar la conexión\n",
    "conexion.close()"
   ]
  },
  {
   "cell_type": "code",
   "execution_count": 21,
   "metadata": {},
   "outputs": [
    {
     "name": "stdout",
     "output_type": "stream",
     "text": [
      "ID encontrado: 1\n"
     ]
    }
   ],
   "source": [
    "import sqlite3\n",
    "\n",
    "# Establecer la conexión a la base de datos\n",
    "conexion = sqlite3.connect('test.db')\n",
    "cursor = conexion.cursor()\n",
    "\n",
    "# Nombre a buscar\n",
    "nombre = \"D:/Alexander_Espinosa/Tesis_Maestria/data/Salida_13_03_23/Dron/100FPLAN\"\n",
    "\n",
    "# Ejecutar la consulta\n",
    "cursor.execute(\"SELECT id FROM registro_carpeta WHERE ruta_carpeta = ?\", (nombre,))\n",
    "row = cursor.fetchone()\n",
    "\n",
    "if row is not None:\n",
    "    id_encontrado = row[0]\n",
    "    print(f\"ID encontrado: {id_encontrado}\")\n",
    "else:\n",
    "    print(\"No se encontró ningún ID para el nombre especificado\")\n",
    "\n",
    "# Cerrar la conexión\n",
    "conexion.close()"
   ]
  },
  {
   "cell_type": "code",
   "execution_count": 11,
   "metadata": {},
   "outputs": [
    {
     "ename": "OperationalError",
     "evalue": "no such column: id_tabla1",
     "output_type": "error",
     "traceback": [
      "\u001b[1;31m---------------------------------------------------------------------------\u001b[0m",
      "\u001b[1;31mOperationalError\u001b[0m                          Traceback (most recent call last)",
      "Cell \u001b[1;32mIn[11], line 10\u001b[0m\n\u001b[0;32m      7\u001b[0m id_tabla1 \u001b[39m=\u001b[39m \u001b[39m3\u001b[39m  \u001b[39m# ID del registro de tabla1\u001b[39;00m\n\u001b[0;32m      9\u001b[0m cursor \u001b[39m=\u001b[39m conexion\u001b[39m.\u001b[39mcursor()\n\u001b[1;32m---> 10\u001b[0m cursor\u001b[39m.\u001b[39;49mexecute(\u001b[39m\"\u001b[39;49m\u001b[39mSELECT * FROM tabla_imagenes WHERE id_tabla1 = ?\u001b[39;49m\u001b[39m\"\u001b[39;49m, (id_tabla1,))\n\u001b[0;32m     11\u001b[0m rows \u001b[39m=\u001b[39m cursor\u001b[39m.\u001b[39mfetchall()\n\u001b[0;32m     13\u001b[0m \u001b[39mfor\u001b[39;00m row \u001b[39min\u001b[39;00m rows:\n\u001b[0;32m     14\u001b[0m     \u001b[39m# Acceder a los valores de cada columna\u001b[39;00m\n",
      "\u001b[1;31mOperationalError\u001b[0m: no such column: id_tabla1"
     ]
    }
   ],
   "source": [
    "import sqlite3\n",
    "\n",
    "# Establecer la conexión a la base de datos\n",
    "conexion = sqlite3.connect('test.db')\n",
    "conexion.execute(\"PRAGMA foreign_keys = 1\")\n",
    "\n",
    "id_tabla1 = 3  # ID del registro de tabla1\n",
    "\n",
    "cursor = conexion.cursor()\n",
    "cursor.execute(\"SELECT * FROM tabla_imagenes WHERE id_tabla1 = ?\", (id_tabla1,))\n",
    "rows = cursor.fetchall()\n",
    "\n",
    "for row in rows:\n",
    "    # Acceder a los valores de cada columna\n",
    "    id_tabla2 = row[0]\n",
    "    columna1 = row[1]\n",
    "    columna2 = row[2]\n",
    "    \n",
    "    # Realizar las operaciones deseadas con los datos de la fila\n",
    "    print(f\"ID tabla2: {id_tabla2}, Columna 1: {columna1}, Columna 2: {columna2}\")"
   ]
  },
  {
   "cell_type": "code",
   "execution_count": 24,
   "metadata": {},
   "outputs": [
    {
     "name": "stdout",
     "output_type": "stream",
     "text": [
      "4\n",
      "[289, 1299] - [199, 1240] - [10.7999463] - [-74.20335997] - 0.9248143434524536\n",
      "[306, 729] - [221, 647] - [10.8000284] - [-74.20335729] - 0.6331658363342285\n",
      "[64, 1210] - [6, 1116] - [10.79996125] - [-74.20338946] - 0.19952894747257233\n",
      "[505, 128] - [417, 65] - [10.80011177] - [-74.20332936] - 0.16567888855934143\n"
     ]
    }
   ],
   "source": [
    "import sqlite3\n",
    "\n",
    "# Establecer la conexión a la base de datos\n",
    "conexion = sqlite3.connect('test.db')\n",
    "cursor = conexion.cursor()\n",
    "\n",
    "# Nombre de la imagen y ruta a buscar\n",
    "nombre_imagen = 'DJI_0020.JPG'\n",
    "ruta = 'D:/Alexander_Espinosa/Tesis_Maestria/data/Salida_13_03_23/Dron/100FPLAN'\n",
    "\n",
    "# Ejecutar la consulta\n",
    "cursor.execute(\"SELECT * FROM tabla_imagenes AS ti JOIN resultado_imagen AS ri ON ti.id = ri.id_tabla_imagenes WHERE ti.nombre_imagen = ? AND ti.id_registro_carpeta IN (SELECT id FROM registro_carpeta WHERE ruta_carpeta = ?)\", (nombre_imagen, ruta))\n",
    "rows = cursor.fetchall()\n",
    "print(len(rows))\n",
    "# Recorrer y mostrar los resultados\n",
    "for row in rows:\n",
    "    # Acceder a los valores de las columnas\n",
    "    id_tabla_imagenes = row[0]\n",
    "    # ...\n",
    "    # Acceder a los valores de las columnas de resultado_imagen\n",
    "    pixel_min = row[5]\n",
    "    pixel_max = row[6]\n",
    "    latitud = row[7]\n",
    "    longitud = row[8]\n",
    "    score = row[9]\n",
    "    print(f\"{pixel_max} - {pixel_min} - {latitud} - {longitud} - {score}\")\n",
    "\n",
    "    # Hacer algo con los valores obtenidos\n",
    "\n",
    "# Cerrar la conexión\n",
    "conexion.close()"
   ]
  },
  {
   "cell_type": "code",
   "execution_count": 31,
   "metadata": {},
   "outputs": [
    {
     "data": {
      "text/plain": [
       "'[417, 65]'"
      ]
     },
     "execution_count": 31,
     "metadata": {},
     "output_type": "execute_result"
    }
   ],
   "source": [
    "pixel_min"
   ]
  },
  {
   "cell_type": "code",
   "execution_count": 32,
   "metadata": {},
   "outputs": [
    {
     "data": {
      "text/plain": [
       "'[505, 128]'"
      ]
     },
     "execution_count": 32,
     "metadata": {},
     "output_type": "execute_result"
    }
   ],
   "source": [
    "pixel_max"
   ]
  },
  {
   "cell_type": "code",
   "execution_count": 33,
   "metadata": {},
   "outputs": [
    {
     "name": "stdout",
     "output_type": "stream",
     "text": [
      "417\n",
      "65\n"
     ]
    }
   ],
   "source": [
    "# Eliminar los corchetes y dividir la cadena en números separados\n",
    "numbers = pixel_min.strip('[]').split(',')\n",
    "\n",
    "# Convertir los números de cadena a enteros\n",
    "num1 = int(numbers[0])\n",
    "num2 = int(numbers[1])\n",
    "\n",
    "print(num1)  # Output: 417\n",
    "print(num2)  # Output: 65"
   ]
  },
  {
   "cell_type": "code",
   "execution_count": 34,
   "metadata": {},
   "outputs": [
    {
     "data": {
      "text/plain": [
       "0.16567888855934143"
      ]
     },
     "execution_count": 34,
     "metadata": {},
     "output_type": "execute_result"
    }
   ],
   "source": [
    "score"
   ]
  },
  {
   "cell_type": "code",
   "execution_count": 39,
   "metadata": {},
   "outputs": [
    {
     "name": "stdout",
     "output_type": "stream",
     "text": [
      "Imagen: DJI_0010.JPG, Detecciones: 0\n",
      "Imagen: DJI_0020.JPG, Detecciones: 4\n",
      "Imagen: DJI_0030.JPG, Detecciones: 10\n",
      "Imagen: DJI_0040.JPG, Detecciones: 21\n",
      "Imagen: DJI_0050.JPG, Detecciones: 2\n",
      "Imagen: DJI_0060.JPG, Detecciones: 5\n",
      "Imagen: DJI_0070.JPG, Detecciones: 10\n",
      "[{'nombre': 'DJI_0010.JPG', 'n_detection': 0}, {'nombre': 'DJI_0020.JPG', 'n_detection': 4}, {'nombre': 'DJI_0030.JPG', 'n_detection': 10}, {'nombre': 'DJI_0040.JPG', 'n_detection': 21}, {'nombre': 'DJI_0050.JPG', 'n_detection': 2}, {'nombre': 'DJI_0060.JPG', 'n_detection': 5}, {'nombre': 'DJI_0070.JPG', 'n_detection': 10}]\n"
     ]
    }
   ],
   "source": [
    "lista_dic =[]\n",
    "conexion = sqlite3.connect('./test.db')  # Reemplaza con el nombre de tu base de datos\n",
    "cursor = conexion.cursor()\n",
    "ruta_carpeta=\"D:/Alexander_Espinosa/Tesis_Maestria/data/Salida_13_03_23/Dron/100FPLAN\"\n",
    "    # Consulta SQL para obtener los nombres de las imágenes y la cantidad de detecciones\n",
    "consulta = '''\n",
    "        SELECT i.nombre_imagen, i.cantidad_detect\n",
    "        FROM tabla_imagenes AS i\n",
    "        INNER JOIN registro_carpeta AS rc ON i.id_registro_carpeta = rc.id\n",
    "        WHERE rc.ruta_carpeta = ?\n",
    "    '''\n",
    "\n",
    "    # Ejecutar la consulta y obtener los resultados\n",
    "cursor.execute(consulta, (ruta_carpeta,))\n",
    "resultados = cursor.fetchall()\n",
    "conexion.close()\n",
    "\n",
    "    # Recorrer los resultados e imprimir los nombres de las imágenes y la cantidad de detecciones\n",
    "for nombre_imagen, cantidad_detect in resultados:\n",
    "        #print(f'Imagen: {nombre_imagen}, Detecciones: {cantidad_detect}')\n",
    "        diccionario = {\"nombre\": nombre_imagen, \"n_detection\": cantidad_detect}\n",
    "        lista_dic.append(diccionario)\n",
    "    # Cerrar la conexión\n",
    "\n",
    "\n",
    "print(lista_dic)"
   ]
  },
  {
   "cell_type": "code",
   "execution_count": 40,
   "metadata": {},
   "outputs": [
    {
     "name": "stdout",
     "output_type": "stream",
     "text": [
      "0\n",
      "{'nombre': 'DJI_0010.JPG', 'n_detection': 0}\n",
      "1\n",
      "{'nombre': 'DJI_0020.JPG', 'n_detection': 4}\n",
      "2\n",
      "{'nombre': 'DJI_0030.JPG', 'n_detection': 10}\n",
      "3\n",
      "{'nombre': 'DJI_0040.JPG', 'n_detection': 21}\n",
      "4\n",
      "{'nombre': 'DJI_0050.JPG', 'n_detection': 2}\n",
      "5\n",
      "{'nombre': 'DJI_0060.JPG', 'n_detection': 5}\n",
      "6\n",
      "{'nombre': 'DJI_0070.JPG', 'n_detection': 10}\n"
     ]
    }
   ],
   "source": [
    "for indice,imagenes in enumerate(lista_dic):\n",
    "    print(indice)\n",
    "    print(imagenes)"
   ]
  },
  {
   "cell_type": "code",
   "execution_count": 53,
   "metadata": {},
   "outputs": [],
   "source": [
    "import sqlite3\n",
    "\n",
    "# Conectar a la base de datos\n",
    "conexion = sqlite3.connect('test.db')  # Reemplaza con el nombre de tu base de datos\n",
    "cursor = conexion.cursor()\n",
    "\n",
    "# Definir los valores para nombre_imagen y ruta_carpeta\n",
    "nombre_imagen = 'DJI_0050.JPG'  # Reemplaza con el nombre de la imagen deseada\n",
    "ruta_carpeta = 'D:/Alexander_Espinosa/Tesis_Maestria/data/Salida_13_03_23/Dron/100FPLAN'  # Reemplaza con la ruta de la carpeta deseada\n",
    "\n",
    "# Consulta SQL para obtener los datos de resultado_imagen relacionados con nombre_imagen y ruta_carpeta\n",
    "consulta = '''\n",
    "    SELECT ri.*\n",
    "    FROM resultado_imagen AS ri\n",
    "    INNER JOIN tabla_imagenes AS ti ON ri.id_tabla_imagenes = ti.id\n",
    "    INNER JOIN registro_carpeta AS rc ON ti.id_registro_carpeta = rc.id\n",
    "    WHERE ti.nombre_imagen = ? AND rc.ruta_carpeta = ?\n",
    "'''\n",
    "\n",
    "# Ejecutar la consulta y obtener los resultados\n",
    "cursor.execute(consulta, (nombre_imagen, ruta_carpeta))\n",
    "resultados = cursor.fetchall()\n",
    "conexion.close()\n",
    "lista_dic=[]\n",
    "# Recorrer los resultados y procesar los datos\n",
    "for resultado in resultados:\n",
    "    # Acceder a los campos de la tabla resultado_imagen\n",
    "    id_resultado = resultado[0]\n",
    "    pixel_min = resultado[1]\n",
    "    pixel_max = resultado[2]\n",
    "    latitud = resultado[3]\n",
    "    longitud = resultado[4]\n",
    "    score = resultado[5]\n",
    "    id_tabla_imagenes = resultado[6]\n",
    "    # Hacer algo con los datos...\n",
    "    diccionario = {\"pixel_min\": pixel_min, \"pixel_max\": pixel_max, \"lat\":latitud,\"long\":longitud}\n",
    "    lista_dic.append(diccionario)\n",
    "\n",
    "# Cerrar la conexión\n"
   ]
  },
  {
   "cell_type": "code",
   "execution_count": 54,
   "metadata": {},
   "outputs": [
    {
     "data": {
      "text/plain": [
       "[{'pixel_min': '[210, 1230]',\n",
       "  'pixel_max': '[289, 1299]',\n",
       "  'lat': '[10.79981858]',\n",
       "  'long': '[-74.20346682]'},\n",
       " {'pixel_min': '[275, 1014]',\n",
       "  'pixel_max': '[311, 1054]',\n",
       "  'lat': '[10.79985113]',\n",
       "  'long': '[-74.20346059]'}]"
      ]
     },
     "execution_count": 54,
     "metadata": {},
     "output_type": "execute_result"
    }
   ],
   "source": [
    "lista_dic"
   ]
  },
  {
   "cell_type": "code",
   "execution_count": 55,
   "metadata": {},
   "outputs": [
    {
     "data": {
      "text/plain": [
       "0"
      ]
     },
     "execution_count": 55,
     "metadata": {},
     "output_type": "execute_result"
    }
   ],
   "source": [
    "len([])"
   ]
  },
  {
   "cell_type": "code",
   "execution_count": 61,
   "metadata": {},
   "outputs": [],
   "source": [
    "def obtener_resultados_por_ruta_carpeta(ruta_carpeta):\n",
    "    conexion = sqlite3.connect(\"test.db\")  # Reemplaza con el nombre de tu base de datos\n",
    "    cursor = conexion.cursor()\n",
    "\n",
    "    # Realizar la consulta utilizando JOIN para combinar las tablas\n",
    "    consulta = '''SELECT r.*\n",
    "                  FROM resultado_imagen r\n",
    "                  INNER JOIN tabla_imagenes t ON r.id_tabla_imagenes = t.id\n",
    "                  INNER JOIN registro_carpeta rc ON t.id_registro_carpeta = rc.id\n",
    "                  WHERE rc.ruta_carpeta = ?'''\n",
    "    \n",
    "    cursor.execute(consulta, (ruta_carpeta,))\n",
    "    resultados = cursor.fetchall()\n",
    "\n",
    "    conexion.close()\n",
    "\n",
    "    return resultados\n",
    "\n",
    "# Ejemplo de uso\n",
    "ruta_carpeta = \"D:/Alexander_Espinosa/Tesis_Maestria/data/Salida_13_03_23/Dron/100FPLAN\"\n",
    "resultados = obtener_resultados_por_ruta_carpeta(ruta_carpeta)\n",
    "\n",
    "# Recorrer los resultados obtenidos\n",
    "for resultado in resultados:\n",
    "    # Procesar cada fila de resultado\n",
    "    print(resultado)"
   ]
  },
  {
   "cell_type": "code",
   "execution_count": 60,
   "metadata": {},
   "outputs": [
    {
     "data": {
      "text/plain": [
       "0"
      ]
     },
     "execution_count": 60,
     "metadata": {},
     "output_type": "execute_result"
    }
   ],
   "source": [
    "len(resultados)"
   ]
  },
  {
   "cell_type": "code",
   "execution_count": 73,
   "metadata": {},
   "outputs": [],
   "source": [
    "fecha=\"2023-05-29 11:03:10.822975\"\n",
    "conexion = sqlite3.connect('./test.db')  # Reemplaza con el nombre de tu base de datos\n",
    "\n",
    "# Crear un cursor\n",
    "cursor = conexion.cursor()\n",
    "\n",
    "# Ejecutar la consulta\n",
    "cursor.execute(\"\"\"\n",
    "    SELECT tabla_imagenes.cantidad_detect, tabla_imagenes.nombre_imagen\n",
    "    FROM tabla_imagenes\n",
    "    JOIN registro_carpeta ON tabla_imagenes.id_registro_carpeta = registro_carpeta.id\n",
    "    WHERE registro_carpeta.fecha = ?\n",
    "    \"\"\", (fecha,))\n",
    "\n",
    "\n",
    "# Obtener los resultados de la consulta\n",
    "resultados = cursor.fetchall()\n",
    "\n",
    "# Cerrar la conexión con la base de datos\n",
    "conexion.close()\n",
    "\n",
    "    # Devolver los resultados\n",
    "\n"
   ]
  },
  {
   "cell_type": "code",
   "execution_count": 74,
   "metadata": {},
   "outputs": [
    {
     "data": {
      "text/plain": [
       "[(0, 'DJI_0010.JPG'),\n",
       " (4, 'DJI_0020.JPG'),\n",
       " (10, 'DJI_0030.JPG'),\n",
       " (21, 'DJI_0040.JPG'),\n",
       " (2, 'DJI_0050.JPG'),\n",
       " (5, 'DJI_0060.JPG'),\n",
       " (10, 'DJI_0070.JPG')]"
      ]
     },
     "execution_count": 74,
     "metadata": {},
     "output_type": "execute_result"
    }
   ],
   "source": [
    "resultados"
   ]
  },
  {
   "cell_type": "code",
   "execution_count": 75,
   "metadata": {},
   "outputs": [
    {
     "data": {
      "text/plain": [
       "[(0, 'DJI_0010.JPG'),\n",
       " (4, 'DJI_0020.JPG'),\n",
       " (10, 'DJI_0030.JPG'),\n",
       " (21, 'DJI_0040.JPG'),\n",
       " (2, 'DJI_0050.JPG'),\n",
       " (5, 'DJI_0060.JPG'),\n",
       " (10, 'DJI_0070.JPG')]"
      ]
     },
     "execution_count": 75,
     "metadata": {},
     "output_type": "execute_result"
    }
   ],
   "source": [
    "resultados"
   ]
  },
  {
   "cell_type": "code",
   "execution_count": 78,
   "metadata": {},
   "outputs": [],
   "source": [
    "import matplotlib.pyplot as plt"
   ]
  },
  {
   "cell_type": "code",
   "execution_count": 83,
   "metadata": {},
   "outputs": [
    {
     "ename": "TypeError",
     "evalue": "'bool' object is not iterable",
     "output_type": "error",
     "traceback": [
      "\u001b[1;31m---------------------------------------------------------------------------\u001b[0m",
      "\u001b[1;31mTypeError\u001b[0m                                 Traceback (most recent call last)",
      "Cell \u001b[1;32mIn[83], line 8\u001b[0m\n\u001b[0;32m      5\u001b[0m colores \u001b[39m=\u001b[39m [\u001b[39m'\u001b[39m\u001b[39m#ff9999\u001b[39m\u001b[39m'\u001b[39m, \u001b[39m'\u001b[39m\u001b[39m#66b3ff\u001b[39m\u001b[39m'\u001b[39m]\n\u001b[0;32m      7\u001b[0m     \u001b[39m# Crear una lista de valores con dos elementos: uno para los valores iguales a cero y otro para los mayores que cero\u001b[39;00m\n\u001b[1;32m----> 8\u001b[0m valores_grafica \u001b[39m=\u001b[39m [\u001b[39msum\u001b[39;49m(valores \u001b[39m==\u001b[39;49m \u001b[39m0\u001b[39;49m), \u001b[39msum\u001b[39m(valores \u001b[39m>\u001b[39m \u001b[39m0\u001b[39m)]\n\u001b[0;32m     10\u001b[0m     \u001b[39m# Crear la figura y los ejes de la gráfica\u001b[39;00m\n\u001b[0;32m     11\u001b[0m fig, ax \u001b[39m=\u001b[39m plt\u001b[39m.\u001b[39msubplots()\n",
      "\u001b[1;31mTypeError\u001b[0m: 'bool' object is not iterable"
     ]
    }
   ],
   "source": [
    "valores = [dato[0] for dato in resultados]\n",
    "etiquetas = ['= 0', '> 0']\n",
    "\n",
    "# Colores para los sectores\n",
    "colores = ['#ff9999', '#66b3ff']\n",
    "\n",
    "    # Crear una lista de valores con dos elementos: uno para los valores iguales a cero y otro para los mayores que cero\n",
    "valores_grafica = [sum(valores == 0), sum(valores > 0)]\n",
    "\n",
    "    # Crear la figura y los ejes de la gráfica\n",
    "fig, ax = plt.subplots()\n",
    "\n",
    "    # Crear la gráfica de torta\n",
    "ax.pie(valores_grafica, labels=etiquetas, colors=colores, autopct='%1.1f%%', startangle=90)\n",
    "\n",
    "    # Agregar título a la gráfica\n",
    "ax.set_title('Distribución de valores = 0 y > 0')\n",
    "\n",
    "    # Mostrar la gráfica\n",
    "plt.show()"
   ]
  },
  {
   "cell_type": "code",
   "execution_count": 111,
   "metadata": {},
   "outputs": [
    {
     "data": {
      "image/png": "[encoded data removed]",
      "text/plain": [
       "<Figure size 640x480 with 1 Axes>"
      ]
     },
     "metadata": {},
     "output_type": "display_data"
    }
   ],
   "source": [
    "valores = [dato[0] for dato in resultados]\n",
    "etiquetas = ['Not Sigatoka', 'Sigatoka']\n",
    "comparar_cero = lambda valor: valor == 0\n",
    "cantidad_ceros = len(list(filter(comparar_cero, valores)))\n",
    "comparar_ncero = lambda valor: valor > 0\n",
    "cantidad_nceros = len(list(filter(comparar_ncero, valores)))\n",
    "v_g=[cantidad_ceros,cantidad_nceros]\n",
    "fig, ax = plt.subplots()\n",
    "\n",
    "    # Crear la gráfica de torta\n",
    "wedges, texts, autotexts = ax.pie(v_g, labels=etiquetas, colors=['#ffcc99', '#99ff99'], autopct=lambda pct: f\"{pct:.1f}%\\n({int(round(pct/100*sum(v_g), 0))})\",\n",
    "                                  textprops={'fontsize': 10}, startangle=90)\n",
    "\n",
    "# Set the text labels' properties\n",
    "plt.setp(autotexts, size=8, weight='bold')\n",
    "\n",
    "# Add title to the pie chart\n",
    "ax.set_title('Areas with Sigatoka')\n",
    "\n",
    "# Display the pie chart\n",
    "plt.show()\n"
   ]
  },
  {
   "cell_type": "code",
   "execution_count": 100,
   "metadata": {},
   "outputs": [],
   "source": []
  },
  {
   "cell_type": "code",
   "execution_count": 101,
   "metadata": {},
   "outputs": [
    {
     "data": {
      "text/plain": [
       "1"
      ]
     },
     "execution_count": 101,
     "metadata": {},
     "output_type": "execute_result"
    }
   ],
   "source": [
    "cantidad_ceros"
   ]
  },
  {
   "cell_type": "code",
   "execution_count": 102,
   "metadata": {},
   "outputs": [],
   "source": []
  },
  {
   "cell_type": "code",
   "execution_count": 103,
   "metadata": {},
   "outputs": [
    {
     "data": {
      "text/plain": [
       "6"
      ]
     },
     "execution_count": 103,
     "metadata": {},
     "output_type": "execute_result"
    }
   ],
   "source": [
    "cantidad_nceros"
   ]
  },
  {
   "cell_type": "code",
   "execution_count": 105,
   "metadata": {},
   "outputs": [],
   "source": []
  },
  {
   "cell_type": "code",
   "execution_count": 109,
   "metadata": {},
   "outputs": [
    {
     "data": {
      "image/png": "[encoded data removed]",
      "text/plain": [
       "<Figure size 640x480 with 1 Axes>"
      ]
     },
     "metadata": {},
     "output_type": "display_data"
    }
   ],
   "source": []
  },
  {
   "cell_type": "code",
   "execution_count": 110,
   "metadata": {},
   "outputs": [
    {
     "data": {
      "text/plain": [
       "[0, 4, 10, 21, 2, 5, 10]"
      ]
     },
     "execution_count": 110,
     "metadata": {},
     "output_type": "execute_result"
    }
   ],
   "source": [
    "valores"
   ]
  },
  {
   "cell_type": "code",
   "execution_count": 112,
   "metadata": {},
   "outputs": [],
   "source": [
    "x=[{'nombre': 'DJI_0010.JPG', 'cant': 0}, {'nombre': 'DJI_0020.JPG', 'cant': 4}, {'nombre': 'DJI_0030.JPG', 'cant': 10}, {'nombre': 'DJI_0040.JPG', 'cant': 21}, {'nombre': 'DJI_0050.JPG', 'cant': 2}, {'nombre': 'DJI_0060.JPG', 'cant': 5}, {'nombre': 'DJI_0070.JPG', \n",
    "'cant': 10}]"
   ]
  },
  {
   "cell_type": "code",
   "execution_count": 114,
   "metadata": {},
   "outputs": [],
   "source": [
    "numeros_cant = [item['cant'] for item in x]"
   ]
  },
  {
   "cell_type": "code",
   "execution_count": 115,
   "metadata": {},
   "outputs": [
    {
     "data": {
      "text/plain": [
       "[0, 4, 10, 21, 2, 5, 10]"
      ]
     },
     "execution_count": 115,
     "metadata": {},
     "output_type": "execute_result"
    }
   ],
   "source": [
    "numeros_cant"
   ]
  },
  {
   "cell_type": "code",
   "execution_count": 117,
   "metadata": {},
   "outputs": [],
   "source": [
    "fecha=\"2023-05-29 11:03:10.822975\""
   ]
  },
  {
   "cell_type": "code",
   "execution_count": 119,
   "metadata": {},
   "outputs": [
    {
     "name": "stdout",
     "output_type": "stream",
     "text": [
      "Data associated with the date has been successfully deleted.\n"
     ]
    }
   ],
   "source": [
    "conexion = sqlite3.connect('./test.db')  # Reemplaza con el nombre de tu base de datos\n",
    "\n",
    "# Crear un cursor\n",
    "cursor = conexion.cursor()\n",
    "cursor.execute(\"SELECT id FROM registro_carpeta WHERE fecha = ?\", (fecha,))\n",
    "registro_carpeta_id = cursor.fetchone()[0]\n",
    "\n",
    "# Delete rows from the resultado_imagen table associated with the registro_carpeta_id\n",
    "cursor.execute(\"DELETE FROM resultado_imagen WHERE id_tabla_imagenes IN (SELECT id FROM tabla_imagenes WHERE id_registro_carpeta = ?)\", (registro_carpeta_id,))\n",
    "\n",
    "# Delete rows from the tabla_imagenes table associated with the registro_carpeta_id\n",
    "cursor.execute(\"DELETE FROM tabla_imagenes WHERE id_registro_carpeta = ?\", (registro_carpeta_id,))\n",
    "\n",
    "# Delete the row from the registro_carpeta table\n",
    "cursor.execute(\"DELETE FROM registro_carpeta WHERE fecha = ?\", (fecha,))\n",
    "\n",
    "# Commit the changes to the database\n",
    "conexion.commit()\n",
    "conexion.close()\n",
    "\n",
    "print(\"Data associated with the date has been successfully deleted.\")"
   ]
  },
  {
   "cell_type": "code",
   "execution_count": 123,
   "metadata": {},
   "outputs": [],
   "source": [
    "conexion.close()"
   ]
  },
  {
   "cell_type": "code",
   "execution_count": 1,
   "metadata": {},
   "outputs": [],
   "source": [
    "import keras"
   ]
  },
  {
   "cell_type": "code",
   "execution_count": 2,
   "metadata": {},
   "outputs": [],
   "source": [
    "from tensorflow import keras"
   ]
  },
  {
   "cell_type": "code",
   "execution_count": 3,
   "metadata": {},
   "outputs": [],
   "source": [
    "model = keras.models.load_model(\"./modelo/prueba.h5\")"
   ]
  },
  {
   "cell_type": "code",
   "execution_count": 4,
   "metadata": {},
   "outputs": [],
   "source": [
    "import cv2"
   ]
  },
  {
   "cell_type": "code",
   "execution_count": 5,
   "metadata": {},
   "outputs": [],
   "source": [
    "img=cv2.imread(\"../DJI_0920.JPG\",1)"
   ]
  },
  {
   "cell_type": "code",
   "execution_count": 7,
   "metadata": {},
   "outputs": [
    {
     "data": {
      "text/plain": [
       "1300"
      ]
     },
     "execution_count": 7,
     "metadata": {},
     "output_type": "execute_result"
    }
   ],
   "source": [
    "img.shape[0]"
   ]
  },
  {
   "cell_type": "code",
   "execution_count": 8,
   "metadata": {},
   "outputs": [],
   "source": [
    "parte=img[0:img.shape[0]//10,0:img.shape[1]//10,:]"
   ]
  },
  {
   "cell_type": "code",
   "execution_count": 48,
   "metadata": {},
   "outputs": [],
   "source": [
    "cv2.imshow(\"hola\",parte)\n",
    "cv2.waitKey(0)\n",
    "cv2.destroyAllWindows()"
   ]
  },
  {
   "cell_type": "code",
   "execution_count": 13,
   "metadata": {},
   "outputs": [
    {
     "ename": "ValueError",
     "evalue": "in user code:\n\n    File \"d:\\Alexander_Espinosa\\Tesis_Maestria\\Guide_dis\\venv\\lib\\site-packages\\keras\\engine\\training.py\", line 2169, in predict_function  *\n        return step_function(self, iterator)\n    File \"d:\\Alexander_Espinosa\\Tesis_Maestria\\Guide_dis\\venv\\lib\\site-packages\\keras\\engine\\training.py\", line 2155, in step_function  **\n        outputs = model.distribute_strategy.run(run_step, args=(data,))\n    File \"d:\\Alexander_Espinosa\\Tesis_Maestria\\Guide_dis\\venv\\lib\\site-packages\\keras\\engine\\training.py\", line 2143, in run_step  **\n        outputs = model.predict_step(data)\n    File \"d:\\Alexander_Espinosa\\Tesis_Maestria\\Guide_dis\\venv\\lib\\site-packages\\keras\\engine\\training.py\", line 2111, in predict_step\n        return self(x, training=False)\n    File \"d:\\Alexander_Espinosa\\Tesis_Maestria\\Guide_dis\\venv\\lib\\site-packages\\keras\\utils\\traceback_utils.py\", line 70, in error_handler\n        raise e.with_traceback(filtered_tb) from None\n    File \"d:\\Alexander_Espinosa\\Tesis_Maestria\\Guide_dis\\venv\\lib\\site-packages\\keras\\engine\\input_spec.py\", line 253, in assert_input_compatibility\n        raise ValueError(\n\n    ValueError: Exception encountered when calling layer 'model_2' (type Functional).\n    \n    Input 0 of layer \"block1_conv1\" is incompatible with the layer: expected min_ndim=4, found ndim=3. Full shape received: (None, 160, 3)\n    \n    Call arguments received by layer 'model_2' (type Functional):\n      • inputs=tf.Tensor(shape=(None, 160, 3), dtype=uint8)\n      • training=False\n      • mask=None\n",
     "output_type": "error",
     "traceback": [
      "\u001b[1;31m---------------------------------------------------------------------------\u001b[0m",
      "\u001b[1;31mValueError\u001b[0m                                Traceback (most recent call last)",
      "Cell \u001b[1;32mIn[13], line 1\u001b[0m\n\u001b[1;32m----> 1\u001b[0m result\u001b[39m=\u001b[39mmodel\u001b[39m.\u001b[39;49mpredict(parte)\n",
      "File \u001b[1;32md:\\Alexander_Espinosa\\Tesis_Maestria\\Guide_dis\\venv\\lib\\site-packages\\keras\\utils\\traceback_utils.py:70\u001b[0m, in \u001b[0;36mfilter_traceback.<locals>.error_handler\u001b[1;34m(*args, **kwargs)\u001b[0m\n\u001b[0;32m     67\u001b[0m     filtered_tb \u001b[39m=\u001b[39m _process_traceback_frames(e\u001b[39m.\u001b[39m__traceback__)\n\u001b[0;32m     68\u001b[0m     \u001b[39m# To get the full stack trace, call:\u001b[39;00m\n\u001b[0;32m     69\u001b[0m     \u001b[39m# `tf.debugging.disable_traceback_filtering()`\u001b[39;00m\n\u001b[1;32m---> 70\u001b[0m     \u001b[39mraise\u001b[39;00m e\u001b[39m.\u001b[39mwith_traceback(filtered_tb) \u001b[39mfrom\u001b[39;00m \u001b[39mNone\u001b[39;00m\n\u001b[0;32m     71\u001b[0m \u001b[39mfinally\u001b[39;00m:\n\u001b[0;32m     72\u001b[0m     \u001b[39mdel\u001b[39;00m filtered_tb\n",
      "File \u001b[1;32m~\\AppData\\Local\\Temp\\__autograph_generated_file7iluq8zr.py:15\u001b[0m, in \u001b[0;36mouter_factory.<locals>.inner_factory.<locals>.tf__predict_function\u001b[1;34m(iterator)\u001b[0m\n\u001b[0;32m     13\u001b[0m \u001b[39mtry\u001b[39;00m:\n\u001b[0;32m     14\u001b[0m     do_return \u001b[39m=\u001b[39m \u001b[39mTrue\u001b[39;00m\n\u001b[1;32m---> 15\u001b[0m     retval_ \u001b[39m=\u001b[39m ag__\u001b[39m.\u001b[39mconverted_call(ag__\u001b[39m.\u001b[39mld(step_function), (ag__\u001b[39m.\u001b[39mld(\u001b[39mself\u001b[39m), ag__\u001b[39m.\u001b[39mld(iterator)), \u001b[39mNone\u001b[39;00m, fscope)\n\u001b[0;32m     16\u001b[0m \u001b[39mexcept\u001b[39;00m:\n\u001b[0;32m     17\u001b[0m     do_return \u001b[39m=\u001b[39m \u001b[39mFalse\u001b[39;00m\n",
      "\u001b[1;31mValueError\u001b[0m: in user code:\n\n    File \"d:\\Alexander_Espinosa\\Tesis_Maestria\\Guide_dis\\venv\\lib\\site-packages\\keras\\engine\\training.py\", line 2169, in predict_function  *\n        return step_function(self, iterator)\n    File \"d:\\Alexander_Espinosa\\Tesis_Maestria\\Guide_dis\\venv\\lib\\site-packages\\keras\\engine\\training.py\", line 2155, in step_function  **\n        outputs = model.distribute_strategy.run(run_step, args=(data,))\n    File \"d:\\Alexander_Espinosa\\Tesis_Maestria\\Guide_dis\\venv\\lib\\site-packages\\keras\\engine\\training.py\", line 2143, in run_step  **\n        outputs = model.predict_step(data)\n    File \"d:\\Alexander_Espinosa\\Tesis_Maestria\\Guide_dis\\venv\\lib\\site-packages\\keras\\engine\\training.py\", line 2111, in predict_step\n        return self(x, training=False)\n    File \"d:\\Alexander_Espinosa\\Tesis_Maestria\\Guide_dis\\venv\\lib\\site-packages\\keras\\utils\\traceback_utils.py\", line 70, in error_handler\n        raise e.with_traceback(filtered_tb) from None\n    File \"d:\\Alexander_Espinosa\\Tesis_Maestria\\Guide_dis\\venv\\lib\\site-packages\\keras\\engine\\input_spec.py\", line 253, in assert_input_compatibility\n        raise ValueError(\n\n    ValueError: Exception encountered when calling layer 'model_2' (type Functional).\n    \n    Input 0 of layer \"block1_conv1\" is incompatible with the layer: expected min_ndim=4, found ndim=3. Full shape received: (None, 160, 3)\n    \n    Call arguments received by layer 'model_2' (type Functional):\n      • inputs=tf.Tensor(shape=(None, 160, 3), dtype=uint8)\n      • training=False\n      • mask=None\n"
     ]
    }
   ],
   "source": [
    "result=model.predict(parte)"
   ]
  },
  {
   "cell_type": "code",
   "execution_count": 15,
   "metadata": {},
   "outputs": [],
   "source": [
    "import tensorflow as tf"
   ]
  },
  {
   "cell_type": "code",
   "execution_count": 16,
   "metadata": {},
   "outputs": [
    {
     "name": "stdout",
     "output_type": "stream",
     "text": [
      "Model: \"model_2\"\n",
      "_________________________________________________________________\n",
      " Layer (type)                Output Shape              Param #   \n",
      "=================================================================\n",
      " input_4 (InputLayer)        [(None, None, None, 3)]   0         \n",
      "                                                                 \n",
      " block1_conv1 (Conv2D)       (None, None, None, 64)    1792      \n",
      "                                                                 \n",
      " block1_conv2 (Conv2D)       (None, None, None, 64)    36928     \n",
      "                                                                 \n",
      " block1_pool (MaxPooling2D)  (None, None, None, 64)    0         \n",
      "                                                                 \n",
      " block2_conv1 (Conv2D)       (None, None, None, 128)   73856     \n",
      "                                                                 \n",
      " block2_conv2 (Conv2D)       (None, None, None, 128)   147584    \n",
      "                                                                 \n",
      " block2_pool (MaxPooling2D)  (None, None, None, 128)   0         \n",
      "                                                                 \n",
      " block3_conv1 (Conv2D)       (None, None, None, 256)   295168    \n",
      "                                                                 \n",
      " block3_conv2 (Conv2D)       (None, None, None, 256)   590080    \n",
      "                                                                 \n",
      " block3_conv3 (Conv2D)       (None, None, None, 256)   590080    \n",
      "                                                                 \n",
      " block3_conv4 (Conv2D)       (None, None, None, 256)   590080    \n",
      "                                                                 \n",
      " block3_pool (MaxPooling2D)  (None, None, None, 256)   0         \n",
      "                                                                 \n",
      " block4_conv1 (Conv2D)       (None, None, None, 512)   1180160   \n",
      "                                                                 \n",
      " block4_conv2 (Conv2D)       (None, None, None, 512)   2359808   \n",
      "                                                                 \n",
      " block4_conv3 (Conv2D)       (None, None, None, 512)   2359808   \n",
      "                                                                 \n",
      " block4_conv4 (Conv2D)       (None, None, None, 512)   2359808   \n",
      "                                                                 \n",
      " block4_pool (MaxPooling2D)  (None, None, None, 512)   0         \n",
      "                                                                 \n",
      " block5_conv1 (Conv2D)       (None, None, None, 512)   2359808   \n",
      "                                                                 \n",
      " block5_conv2 (Conv2D)       (None, None, None, 512)   2359808   \n",
      "                                                                 \n",
      " block5_conv3 (Conv2D)       (None, None, None, 512)   2359808   \n",
      "                                                                 \n",
      " block5_conv4 (Conv2D)       (None, None, None, 512)   2359808   \n",
      "                                                                 \n",
      " block5_pool (MaxPooling2D)  (None, None, None, 512)   0         \n",
      "                                                                 \n",
      " global_average_pooling2d_2   (None, 512)              0         \n",
      " (GlobalAveragePooling2D)                                        \n",
      "                                                                 \n",
      " dropout_2 (Dropout)         (None, 512)               0         \n",
      "                                                                 \n",
      " dense_4 (Dense)             (None, 512)               262656    \n",
      "                                                                 \n",
      " dense_5 (Dense)             (None, 3)                 1539      \n",
      "                                                                 \n",
      "=================================================================\n",
      "Total params: 20,288,579\n",
      "Trainable params: 264,195\n",
      "Non-trainable params: 20,024,384\n",
      "_________________________________________________________________\n"
     ]
    }
   ],
   "source": [
    "model.summary()\n",
    "\n",
    "\n",
    "AUTOTUNE = tf.data.AUTOTUNE\n",
    "\n",
    "nor=parte/255"
   ]
  },
  {
   "cell_type": "code",
   "execution_count": 35,
   "metadata": {},
   "outputs": [],
   "source": [
    "import numpy as np\n",
    "matriz_cuatro_dimensiones = np.expand_dims(nor, axis=0)"
   ]
  },
  {
   "cell_type": "code",
   "execution_count": 34,
   "metadata": {},
   "outputs": [
    {
     "data": {
      "text/plain": [
       "(1, 130, 160, 3)"
      ]
     },
     "execution_count": 34,
     "metadata": {},
     "output_type": "execute_result"
    }
   ],
   "source": [
    "matriz_cuatro_dimensiones.shape"
   ]
  },
  {
   "cell_type": "code",
   "execution_count": 36,
   "metadata": {},
   "outputs": [
    {
     "name": "stdout",
     "output_type": "stream",
     "text": [
      "1/1 [==============================] - 0s 376ms/step\n"
     ]
    }
   ],
   "source": [
    "result=model.predict(matriz_cuatro_dimensiones)"
   ]
  },
  {
   "cell_type": "code",
   "execution_count": 68,
   "metadata": {},
   "outputs": [
    {
     "data": {
      "text/plain": [
       "array([[0.16448313, 0.16113745, 0.67437947]], dtype=float32)"
      ]
     },
     "execution_count": 68,
     "metadata": {},
     "output_type": "execute_result"
    }
   ],
   "source": [
    "result"
   ]
  },
  {
   "cell_type": "code",
   "execution_count": 41,
   "metadata": {},
   "outputs": [
    {
     "data": {
      "text/plain": [
       "1.0"
      ]
     },
     "execution_count": 41,
     "metadata": {},
     "output_type": "execute_result"
    }
   ],
   "source": [
    "result[0][0]+result[0][1]+result[0][2]"
   ]
  },
  {
   "cell_type": "code",
   "execution_count": 42,
   "metadata": {},
   "outputs": [],
   "source": [
    "x=\"-------------\""
   ]
  },
  {
   "cell_type": "code",
   "execution_count": 43,
   "metadata": {},
   "outputs": [
    {
     "data": {
      "text/plain": [
       "['-------------']"
      ]
     },
     "execution_count": 43,
     "metadata": {},
     "output_type": "execute_result"
    }
   ],
   "source": [
    "x.split(\"_\")"
   ]
  },
  {
   "cell_type": "code",
   "execution_count": 61,
   "metadata": {},
   "outputs": [],
   "source": [
    "boxes=[[ 513.6494, 1010.1216,  655.4862, 1143.9073],\n",
    "          [   4.5606, 1218.0576,  120.6481, 1297.0660],\n",
    "          [ 122.5734,   90.6594,  302.5996,  157.3955],\n",
    "          [ 302.3250,  817.4935,  514.7927,  907.4055],\n",
    "          [ 874.5374,  529.7154,  942.0964,  598.4227],\n",
    "          [ 706.4800,  129.7427,  791.4750,  241.1258],\n",
    "          [1404.5941,  301.3378, 1496.6576,  369.0023]]\n",
    "scores=[0.9778, 0.9141, 0.8919, 0.2601, 0.2599, 0.1632, 0.0672]\n",
    "output=[{\"boxes\":boxes, \"scores\": scores}]"
   ]
  },
  {
   "cell_type": "code",
   "execution_count": 64,
   "metadata": {},
   "outputs": [],
   "source": [
    "for detection in output:\n",
    "            boxes = detection['boxes']\n",
    "            scores = detection['scores']\n",
    "            \n",
    "            \n",
    "            # Recorre cada detección y dibuja el cuadro delimitador\n",
    "            for box, score in zip(boxes, scores):\n",
    "            \n",
    "                x, y, x2, y2 = box\n",
    "                \n",
    "                cx=int(x+((x2-x)//2))\n",
    "                cy=int(y+((y2-y)//2))"
   ]
  },
  {
   "cell_type": "code",
   "execution_count": null,
   "metadata": {},
   "outputs": [],
   "source": []
  }
 ],
 "metadata": {
  "kernelspec": {
   "display_name": "venv",
   "language": "python",
   "name": "python3"
  },
  "language_info": {
   "codemirror_mode": {
    "name": "ipython",
    "version": 3
   },
   "file_extension": ".py",
   "mimetype": "text/x-python",
   "name": "python",
   "nbconvert_exporter": "python",
   "pygments_lexer": "ipython3",
   "version": "3.10.11"
  },
  "orig_nbformat": 4
 },
 "nbformat": 4,
 "nbformat_minor": 2
}
