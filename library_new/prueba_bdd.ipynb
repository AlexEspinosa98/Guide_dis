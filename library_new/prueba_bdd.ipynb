{
 "cells": [
  {
   "cell_type": "code",
   "execution_count": 1,
   "metadata": {},
   "outputs": [],
   "source": [
    "import sqlite3"
   ]
  },
  {
   "cell_type": "code",
   "execution_count": null,
   "metadata": {},
   "outputs": [],
   "source": []
  },
  {
   "cell_type": "code",
   "execution_count": 13,
   "metadata": {},
   "outputs": [
    {
     "name": "stdout",
     "output_type": "stream",
     "text": [
      "[(1, 313, 'D:/Alexander_Espinosa/Tesis_Maestria/data/101FPLAN', '2023-05-23 14:52:58.694936'), (2, 313, 'D:/Alexander_Espinosa/Tesis_Maestria/data/101FPLAN', '2023-05-23 15:07:39.591554')]\n",
      "2023-05-23 15:07:39.591554\n",
      "1\n"
     ]
    }
   ],
   "source": [
    "conn = sqlite3.connect('./test.db')\n",
    "cursor = conn.cursor()\n",
    "\n",
    "# Ejecutar la consulta SELECT *\n",
    "cursor.execute(\"SELECT * FROM resultado_imagen\")\n",
    "\n",
    "# Obtener los resultados de la consulta\n",
    "resultados = cursor.fetchall()\n",
    "print(resultados)\n",
    "\n",
    "# Recorrer los resultados e imprimir los valores\n",
    "print(resultados[1][3])\n",
    "for indice,recorrido in enumerate(resultados):\n",
    "    if (resultados[indice][3]==\"2023-05-23 14:52:58.694936\"):\n",
    "        print(resultados[indice][0])\n",
    "# Cerrar la conexión\n",
    "conn.close()"
   ]
  },
  {
   "cell_type": "code",
   "execution_count": 4,
   "metadata": {},
   "outputs": [
    {
     "name": "stdout",
     "output_type": "stream",
     "text": [
      "1\n",
      "313\n",
      "D:/Alexander_Espinosa/Tesis_Maestria/data/101FPLAN\n",
      "2023-05-23 14:52:58.694936\n",
      "\n",
      "2\n",
      "313\n",
      "D:/Alexander_Espinosa/Tesis_Maestria/data/101FPLAN\n",
      "2023-05-23 15:07:39.591554\n",
      "\n",
      "3\n",
      "7\n",
      "D:/Alexander_Espinosa/Tesis_Maestria/data/Salida_13_03_23/Dron/100FPLAN\n",
      "2023-05-23 15:39:29.291269\n",
      "\n",
      "4\n",
      "7\n",
      "D:/Alexander_Espinosa/Tesis_Maestria/data/Salida_13_03_23/Dron/100FPLAN\n",
      "2023-05-23 15:40:24.101088\n",
      "\n",
      "5\n",
      "7\n",
      "D:/Alexander_Espinosa/Tesis_Maestria/data/Salida_13_03_23/Dron/100FPLAN\n",
      "2023-05-23 15:41:36.108852\n",
      "\n",
      "6\n",
      "7\n",
      "D:/Alexander_Espinosa/Tesis_Maestria/data/Salida_13_03_23/Dron/100FPLAN\n",
      "2023-05-23 15:45:05.855076\n",
      "\n",
      "7\n",
      "7\n",
      "D:/Alexander_Espinosa/Tesis_Maestria/data/Salida_13_03_23/Dron/100FPLAN\n",
      "2023-05-23 15:46:20.007798\n",
      "\n",
      "8\n",
      "96\n",
      "D:/Alexander_Espinosa/Tesis_Maestria/data/Salida_13_03_23/Dron/101FPLAN\n",
      "2023-05-23 15:49:12.617665\n",
      "\n",
      "9\n",
      "7\n",
      "D:/Alexander_Espinosa/Tesis_Maestria/data/Salida_13_03_23/Dron/100FPLAN\n",
      "2023-05-23 16:01:07.417093\n",
      "\n",
      "10\n",
      "7\n",
      "D:/Alexander_Espinosa/Tesis_Maestria/data/Salida_13_03_23/Dron/100FPLAN\n",
      "2023-05-25 16:49:50.572886\n",
      "\n",
      "11\n",
      "7\n",
      "D:/Alexander_Espinosa/Tesis_Maestria/data/Salida_13_03_23/Dron/100FPLAN\n",
      "2023-05-25 16:50:50.207720\n",
      "\n",
      "12\n",
      "7\n",
      "D:/Alexander_Espinosa/Tesis_Maestria/data/Salida_13_03_23/Dron/100FPLAN\n",
      "2023-05-25 16:51:20.760656\n",
      "\n",
      "13\n",
      "7\n",
      "D:/Alexander_Espinosa/Tesis_Maestria/data/Salida_13_03_23/Dron/100FPLAN\n",
      "2023-05-25 17:05:03.192244\n",
      "\n"
     ]
    }
   ],
   "source": [
    "conn = sqlite3.connect('./test.db')\n",
    "cursor = conn.cursor()\n",
    "\n",
    "# Ejecutar la consulta SELECT *\n",
    "cursor.execute(\"SELECT * FROM registro_carpeta\")\n",
    "\n",
    "# Obtener los resultados de la consulta\n",
    "resultados = cursor.fetchall()\n",
    "\n",
    "# Recorrer los resultados e imprimir los valores\n",
    "for fila in resultados:\n",
    "    for valor in fila:\n",
    "        print(valor)\n",
    "    print()\n",
    "\n",
    "# Cerrar la conexión\n",
    "conn.close()"
   ]
  },
  {
   "cell_type": "code",
   "execution_count": 19,
   "metadata": {},
   "outputs": [
    {
     "name": "stdout",
     "output_type": "stream",
     "text": [
      "El id de la fila con nombre_imagen 'DJI_0050.JPG' y id_registro_carpeta 8 es: 12\n"
     ]
    }
   ],
   "source": [
    "import sqlite3\n",
    "\n",
    "# Conectar a la base de datos\n",
    "conexion = sqlite3.connect('./test.db')\n",
    "cursor = conexion.cursor()\n",
    "\n",
    "# Definir los valores de nombre_imagen y id_registro_carpeta\n",
    "nombre_imagen = \"DJI_0050.JPG\"\n",
    "id_registro_carpeta = 8\n",
    "\n",
    "# Consultar el id de la fila con nombre_imagen y id_registro_carpeta especificados\n",
    "cursor.execute(\"SELECT id FROM tabla_imagenes WHERE nombre_imagen = ? AND id_registro_carpeta = ?\", (nombre_imagen, id_registro_carpeta))\n",
    "resultado = cursor.fetchone()\n",
    "\n",
    "if resultado is not None:\n",
    "    id_fila = resultado[0]\n",
    "    print(f\"El id de la fila con nombre_imagen '{nombre_imagen}' y id_registro_carpeta {id_registro_carpeta} es: {id_fila}\")\n",
    "else:\n",
    "    print(\"No se encontró ninguna fila con los criterios especificados\")\n",
    "\n",
    "# Cerrar la conexión\n",
    "conexion.close()"
   ]
  },
  {
   "cell_type": "code",
   "execution_count": 12,
   "metadata": {},
   "outputs": [
    {
     "name": "stdout",
     "output_type": "stream",
     "text": [
      "ID encontrado: 3\n"
     ]
    }
   ],
   "source": [
    "import sqlite3\n",
    "\n",
    "# Establecer la conexión a la base de datos\n",
    "conexion = sqlite3.connect('test.db')\n",
    "cursor = conexion.cursor()\n",
    "\n",
    "# Nombre a buscar\n",
    "nombre = \"D:/Alexander_Espinosa/Tesis_Maestria/data/Salida_13_03_23/Dron/100FPLAN\"\n",
    "\n",
    "# Ejecutar la consulta\n",
    "cursor.execute(\"SELECT id FROM registro_carpeta WHERE ruta_carpeta = ?\", (nombre,))\n",
    "row = cursor.fetchone()\n",
    "\n",
    "if row is not None:\n",
    "    id_encontrado = row[0]\n",
    "    print(f\"ID encontrado: {id_encontrado}\")\n",
    "else:\n",
    "    print(\"No se encontró ningún ID para el nombre especificado\")\n",
    "\n",
    "# Cerrar la conexión\n",
    "conexion.close()"
   ]
  },
  {
   "cell_type": "code",
   "execution_count": 11,
   "metadata": {},
   "outputs": [
    {
     "ename": "OperationalError",
     "evalue": "no such column: id_tabla1",
     "output_type": "error",
     "traceback": [
      "\u001b[1;31m---------------------------------------------------------------------------\u001b[0m",
      "\u001b[1;31mOperationalError\u001b[0m                          Traceback (most recent call last)",
      "Cell \u001b[1;32mIn[11], line 10\u001b[0m\n\u001b[0;32m      7\u001b[0m id_tabla1 \u001b[39m=\u001b[39m \u001b[39m3\u001b[39m  \u001b[39m# ID del registro de tabla1\u001b[39;00m\n\u001b[0;32m      9\u001b[0m cursor \u001b[39m=\u001b[39m conexion\u001b[39m.\u001b[39mcursor()\n\u001b[1;32m---> 10\u001b[0m cursor\u001b[39m.\u001b[39;49mexecute(\u001b[39m\"\u001b[39;49m\u001b[39mSELECT * FROM tabla_imagenes WHERE id_tabla1 = ?\u001b[39;49m\u001b[39m\"\u001b[39;49m, (id_tabla1,))\n\u001b[0;32m     11\u001b[0m rows \u001b[39m=\u001b[39m cursor\u001b[39m.\u001b[39mfetchall()\n\u001b[0;32m     13\u001b[0m \u001b[39mfor\u001b[39;00m row \u001b[39min\u001b[39;00m rows:\n\u001b[0;32m     14\u001b[0m     \u001b[39m# Acceder a los valores de cada columna\u001b[39;00m\n",
      "\u001b[1;31mOperationalError\u001b[0m: no such column: id_tabla1"
     ]
    }
   ],
   "source": [
    "import sqlite3\n",
    "\n",
    "# Establecer la conexión a la base de datos\n",
    "conexion = sqlite3.connect('test.db')\n",
    "conexion.execute(\"PRAGMA foreign_keys = 1\")\n",
    "\n",
    "id_tabla1 = 3  # ID del registro de tabla1\n",
    "\n",
    "cursor = conexion.cursor()\n",
    "cursor.execute(\"SELECT * FROM tabla_imagenes WHERE id_tabla1 = ?\", (id_tabla1,))\n",
    "rows = cursor.fetchall()\n",
    "\n",
    "for row in rows:\n",
    "    # Acceder a los valores de cada columna\n",
    "    id_tabla2 = row[0]\n",
    "    columna1 = row[1]\n",
    "    columna2 = row[2]\n",
    "    \n",
    "    # Realizar las operaciones deseadas con los datos de la fila\n",
    "    print(f\"ID tabla2: {id_tabla2}, Columna 1: {columna1}, Columna 2: {columna2}\")"
   ]
  },
  {
   "cell_type": "code",
   "execution_count": null,
   "metadata": {},
   "outputs": [],
   "source": [
    "import sqlite3\n",
    "\n",
    "# Establecer la conexión a la base de datos\n",
    "conexion = sqlite3.connect('test.db')\n",
    "cursor = conexion.cursor()\n",
    "\n",
    "# Nombre de la imagen y ruta a buscar\n",
    "nombre_imagen = 'DJI_0010.JPG'\n",
    "ruta = 'D:/Alexander_Espinosa/Tesis_Maestria/data/Salida_13_03_23/Dron/100FPLAN'\n",
    "\n",
    "# Ejecutar la consulta\n",
    "cursor.execute(\"SELECT * FROM tabla_imagenes AS ti JOIN resultado_imagen AS ri ON ti.id = ri.id_tabla_imagenes WHERE ti.nombre_imagen = ? AND ti.id_registro_carpeta IN (SELECT id FROM registro_carpeta WHERE ruta_carpeta = ?)\", (nombre_imagen, ruta))\n",
    "rows = cursor.fetchall()\n",
    "\n",
    "# Recorrer y mostrar los resultados\n",
    "for row in rows:\n",
    "    # Acceder a los valores de las columnas\n",
    "    id_tabla_imagenes = row[0]\n",
    "    # ...\n",
    "    # Acceder a los valores de las columnas de resultado_imagen\n",
    "    pixel_min = row[7]\n",
    "    pixel_max = row[8]\n",
    "    latitud = row[9]\n",
    "    longitud = row[10]\n",
    "    score = row[11]\n",
    "\n",
    "    # Hacer algo con los valores obtenidos\n",
    "\n",
    "# Cerrar la conexión\n",
    "conexion.close()"
   ]
  }
 ],
 "metadata": {
  "kernelspec": {
   "display_name": "venv",
   "language": "python",
   "name": "python3"
  },
  "language_info": {
   "codemirror_mode": {
    "name": "ipython",
    "version": 3
   },
   "file_extension": ".py",
   "mimetype": "text/x-python",
   "name": "python",
   "nbconvert_exporter": "python",
   "pygments_lexer": "ipython3",
   "version": "3.10.11"
  },
  "orig_nbformat": 4
 },
 "nbformat": 4,
 "nbformat_minor": 2
}
